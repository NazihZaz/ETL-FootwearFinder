{
 "cells": [
  {
   "cell_type": "code",
   "execution_count": 1,
   "id": "424a274b",
   "metadata": {},
   "outputs": [],
   "source": [
    "# Import Dependecies\n",
    "import pandas as pd\n",
    "from splinter import Browser\n",
    "from bs4 import BeautifulSoup\n",
    "from webdriver_manager.chrome import ChromeDriverManager\n",
    "import time\n",
    "import re\n",
    "import math"
   ]
  },
  {
   "cell_type": "markdown",
   "id": "ab2c9d9e",
   "metadata": {},
   "source": [
    "# Extraction\n",
    "\n",
    "Data source:https://www.nike.com/"
   ]
  },
  {
   "cell_type": "markdown",
   "id": "9b6ba84f",
   "metadata": {},
   "source": [
    "### Men's Shoes"
   ]
  },
  {
   "cell_type": "code",
   "execution_count": 2,
   "id": "0d8a663a",
   "metadata": {
    "scrolled": true
   },
   "outputs": [
    {
     "name": "stderr",
     "output_type": "stream",
     "text": [
      "\n",
      "\n",
      "====== WebDriver manager ======\n",
      "Current google-chrome version is 96.0.4664\n",
      "Get LATEST chromedriver version for 96.0.4664 google-chrome\n",
      "Driver [C:\\Users\\JINK\\.wdm\\drivers\\chromedriver\\win32\\96.0.4664.45\\chromedriver.exe] found in cache\n"
     ]
    }
   ],
   "source": [
    "# Setup splinter\n",
    "executable_path = {'executable_path': ChromeDriverManager().install()}\n",
    "browser = Browser('chrome', **executable_path, headless=False)"
   ]
  },
  {
   "cell_type": "code",
   "execution_count": 3,
   "id": "bbe4ccb0",
   "metadata": {},
   "outputs": [],
   "source": [
    "# URL of the home page of the access\n",
    "url = 'https://www.nike.com/w/mens-shoes-nik1zy7ok'\n",
    "browser.visit(url)\n",
    "\n",
    "# Resize the window size\n",
    "browser.driver.set_window_size(1320,1000)\n",
    "\n",
    "# Apply a 5-seconde delay to allow the page to load\n",
    "time.sleep(5)"
   ]
  },
  {
   "cell_type": "code",
   "execution_count": 4,
   "id": "c83b436f",
   "metadata": {},
   "outputs": [],
   "source": [
    "# Create a Beautiful Soup object\n",
    "html = browser.html\n",
    "soup = BeautifulSoup(html, 'html.parser')"
   ]
  },
  {
   "cell_type": "code",
   "execution_count": 5,
   "id": "056e1f43",
   "metadata": {},
   "outputs": [
    {
     "name": "stdout",
     "output_type": "stream",
     "text": [
      "The total number of items available is: 676\n",
      "The total number of time to scroll down needed is: 28\n"
     ]
    }
   ],
   "source": [
    "# Number of items loaded to the page to be scraped every time we scroll to the bottom of the page\n",
    "items_displayed=24\n",
    "\n",
    "# Set a variable to scroll to the bottom of the page to be scraped\n",
    "scroll = \"window.scrollTo(0, document.body.scrollHeight);\"\n",
    "# browser.execute_script(scrollJS)\n",
    "\n",
    "item_count=soup.find(\"span\",class_=\"wall-header__item_count\").text\n",
    "\n",
    "# Parse through the item_count and extract the digit part\n",
    "available_items=re.sub('[()]', '', item_count)\n",
    "\n",
    "# Convert the available_items to integer\n",
    "total_items=pd.to_numeric(available_items)\n",
    "print(f\"The total number of items available is: {total_items}\")\n",
    "\n",
    "# Determine the total number of times to scroll down\n",
    "scroll_num=math.ceil((total_items/items_displayed)-1)\n",
    "print(f\"The total number of time to scroll down needed is: {scroll_num}\")"
   ]
  },
  {
   "cell_type": "code",
   "execution_count": 6,
   "id": "1593059d",
   "metadata": {},
   "outputs": [],
   "source": [
    "# Create empty lists to holds the data to be scraped\n",
    "items=[]\n",
    "genders=[]\n",
    "prices=[]\n",
    "links=[]\n",
    "\n",
    "# Perform the scrolls down with a 5-seconde time delay between each one to allow the page to load\n",
    "for i in range(scroll_num):\n",
    "    browser.execute_script(scroll)   \n",
    "    time.sleep(5)\n",
    "\n",
    "# Reset the Beautiful Soup object with the fully loaded page\n",
    "html = browser.html\n",
    "soup = BeautifulSoup(html, 'html.parser')    \n",
    "\n",
    "# Save the results in a variable\n",
    "results=soup.find_all(\"div\", class_=\"product-card__body\")\n",
    "\n",
    "# Loop through the results\n",
    "for result in results:\n",
    "    \n",
    "    # Pull the item name\n",
    "    item=result.find(\"div\",class_=\"product-card__title\")\n",
    "    # Pull the item price\n",
    "    price=result.find(\"div\",class_=\"product-card__price\")\n",
    "    # Pull the item link\n",
    "    link=result.a[\"href\"]\n",
    "\n",
    "# Append the items, categories and colors lists\n",
    "    items.append(item.text)\n",
    "    genders.append(\"Men\")\n",
    "    links.append(link)\n",
    "    \n",
    "    # Exception handling for items listed without prices\n",
    "    try:\n",
    "        prices.append(price.text)\n",
    "    except AttributeError:\n",
    "        prices.append(\"N/A\")"
   ]
  },
  {
   "cell_type": "code",
   "execution_count": 7,
   "id": "906483e8",
   "metadata": {},
   "outputs": [],
   "source": [
    "# Close the browser\n",
    "browser.quit()"
   ]
  },
  {
   "cell_type": "markdown",
   "id": "8aaa73b7",
   "metadata": {},
   "source": [
    "### Women's Shoes"
   ]
  },
  {
   "cell_type": "code",
   "execution_count": 8,
   "id": "57bb0bff",
   "metadata": {},
   "outputs": [
    {
     "name": "stderr",
     "output_type": "stream",
     "text": [
      "\n",
      "\n",
      "====== WebDriver manager ======\n",
      "Current google-chrome version is 96.0.4664\n",
      "Get LATEST chromedriver version for 96.0.4664 google-chrome\n",
      "Driver [C:\\Users\\JINK\\.wdm\\drivers\\chromedriver\\win32\\96.0.4664.45\\chromedriver.exe] found in cache\n"
     ]
    }
   ],
   "source": [
    "# Setup splinter\n",
    "executable_path = {'executable_path': ChromeDriverManager().install()}\n",
    "browser = Browser('chrome', **executable_path, headless=False)"
   ]
  },
  {
   "cell_type": "code",
   "execution_count": 9,
   "id": "8c345ac4",
   "metadata": {},
   "outputs": [],
   "source": [
    "# URL of the home page of the access\n",
    "url = 'https://www.nike.com/w/womens-shoes-5e1x6zy7ok'\n",
    "browser.visit(url)\n",
    "\n",
    "# Resize the window size\n",
    "browser.driver.set_window_size(1320,1000)\n",
    "\n",
    "# Apply a 5-seconde delay to allow the page to load\n",
    "time.sleep(5)"
   ]
  },
  {
   "cell_type": "code",
   "execution_count": 10,
   "id": "fee60d15",
   "metadata": {},
   "outputs": [],
   "source": [
    "# Create a Beautiful Soup object\n",
    "html = browser.html\n",
    "soup = BeautifulSoup(html, 'html.parser')"
   ]
  },
  {
   "cell_type": "code",
   "execution_count": 11,
   "id": "a3d55b13",
   "metadata": {},
   "outputs": [
    {
     "name": "stdout",
     "output_type": "stream",
     "text": [
      "The total number of items available is: 545\n",
      "The total number of time to scroll down needed is: 22\n"
     ]
    }
   ],
   "source": [
    "# Number of items loaded to the page to be scraped every time we scroll to the bottom of the page\n",
    "items_displayed=24\n",
    "\n",
    "# Set a variable to scroll to the bottom of the page to be scraped\n",
    "scroll = \"window.scrollTo(0, document.body.scrollHeight);\"\n",
    "# browser.execute_script(scrollJS)\n",
    "\n",
    "item_count=soup.find(\"span\",class_=\"wall-header__item_count\").text\n",
    "\n",
    "# Parse through the item_count and extract the digit part\n",
    "available_items=re.sub('[()]', '', item_count)\n",
    "\n",
    "# Convert the available_items to integer\n",
    "total_items=pd.to_numeric(available_items)\n",
    "print(f\"The total number of items available is: {total_items}\")\n",
    "\n",
    "# Determine the total number of times to scroll down\n",
    "scroll_num=math.ceil((total_items/items_displayed)-1)\n",
    "print(f\"The total number of time to scroll down needed is: {scroll_num}\")"
   ]
  },
  {
   "cell_type": "code",
   "execution_count": 12,
   "id": "a8b31500",
   "metadata": {},
   "outputs": [],
   "source": [
    "# Perform the scrolls down with a 5-seconde time delay between each one to allow the page to load\n",
    "for i in range(scroll_num):\n",
    "    browser.execute_script(scroll)   \n",
    "    time.sleep(5)\n",
    "\n",
    "# Reset the Beautiful Soup object with the fully loaded page\n",
    "html = browser.html\n",
    "soup = BeautifulSoup(html, 'html.parser')    \n",
    "\n",
    "# Save the results in a variable\n",
    "results=soup.find_all(\"div\", class_=\"product-card__body\")\n",
    "\n",
    "# Loop through the results\n",
    "for result in results:\n",
    "    \n",
    "    # Pull the item name\n",
    "    item=result.find(\"div\",class_=\"product-card__title\")\n",
    "    # Pull the item price\n",
    "    price=result.find(\"div\",class_=\"product-card__price\")\n",
    "    # Pull the item link\n",
    "    link=result.a[\"href\"]\n",
    "\n",
    "# Append the items, categories and colors lists\n",
    "    items.append(item.text)\n",
    "    genders.append(\"Women\")\n",
    "    links.append(link)\n",
    "    \n",
    "    # Exception handling for items listed without prices\n",
    "    try:\n",
    "        prices.append(price.text)\n",
    "    except AttributeError:\n",
    "        prices.append(\"N/A\")"
   ]
  },
  {
   "cell_type": "code",
   "execution_count": 13,
   "id": "2da2236b",
   "metadata": {},
   "outputs": [],
   "source": [
    "# Close the browser\n",
    "browser.quit()"
   ]
  },
  {
   "cell_type": "markdown",
   "id": "af36e0c4",
   "metadata": {},
   "source": [
    "### Boys' Shoes"
   ]
  },
  {
   "cell_type": "code",
   "execution_count": 14,
   "id": "08a804c9",
   "metadata": {},
   "outputs": [
    {
     "name": "stderr",
     "output_type": "stream",
     "text": [
      "\n",
      "\n",
      "====== WebDriver manager ======\n",
      "Current google-chrome version is 96.0.4664\n",
      "Get LATEST chromedriver version for 96.0.4664 google-chrome\n",
      "Driver [C:\\Users\\JINK\\.wdm\\drivers\\chromedriver\\win32\\96.0.4664.45\\chromedriver.exe] found in cache\n"
     ]
    }
   ],
   "source": [
    "# Setup splinter\n",
    "executable_path = {'executable_path': ChromeDriverManager().install()}\n",
    "browser = Browser('chrome', **executable_path, headless=False)"
   ]
  },
  {
   "cell_type": "code",
   "execution_count": 15,
   "id": "6e10b784",
   "metadata": {},
   "outputs": [],
   "source": [
    "# URL of the home page of the access\n",
    "url = 'https://www.nike.com/w/boys-shoes-1onrazy7ok'\n",
    "browser.visit(url)\n",
    "\n",
    "# Resize the window size\n",
    "browser.driver.set_window_size(1320,1000)\n",
    "\n",
    "# Apply a 5-seconde delay to allow the page to load\n",
    "time.sleep(5)"
   ]
  },
  {
   "cell_type": "code",
   "execution_count": 16,
   "id": "c46646d7",
   "metadata": {},
   "outputs": [],
   "source": [
    "# Create a Beautiful Soup object\n",
    "html = browser.html\n",
    "soup = BeautifulSoup(html, 'html.parser')"
   ]
  },
  {
   "cell_type": "code",
   "execution_count": 17,
   "id": "442bb530",
   "metadata": {},
   "outputs": [
    {
     "name": "stdout",
     "output_type": "stream",
     "text": [
      "The total number of items available is: 498\n",
      "The total number of time to scroll down needed is: 20\n"
     ]
    }
   ],
   "source": [
    "# Number of items loaded to the page to be scraped every time we scroll to the bottom of the page\n",
    "items_displayed=24\n",
    "\n",
    "# Set a variable to scroll to the bottom of the page to be scraped\n",
    "scroll = \"window.scrollTo(0, document.body.scrollHeight);\"\n",
    "# browser.execute_script(scrollJS)\n",
    "\n",
    "item_count=soup.find(\"span\",class_=\"wall-header__item_count\").text\n",
    "\n",
    "# Parse through the item_count and extract the digit part\n",
    "available_items=re.sub('[()]', '', item_count)\n",
    "\n",
    "# Convert the available_items to integer\n",
    "total_items=pd.to_numeric(available_items)\n",
    "print(f\"The total number of items available is: {total_items}\")\n",
    "\n",
    "# Determine the total number of times to scroll down\n",
    "scroll_num=math.ceil((total_items/items_displayed)-1)\n",
    "print(f\"The total number of time to scroll down needed is: {scroll_num}\")"
   ]
  },
  {
   "cell_type": "code",
   "execution_count": 18,
   "id": "d058486d",
   "metadata": {},
   "outputs": [],
   "source": [
    "# Perform the scrolls down with a 5-seconde time delay between each one to allow the page to load\n",
    "for i in range(scroll_num):\n",
    "    browser.execute_script(scroll)   \n",
    "    time.sleep(5)\n",
    "\n",
    "# Reset the Beautiful Soup object with the fully loaded page\n",
    "html = browser.html\n",
    "soup = BeautifulSoup(html, 'html.parser')    \n",
    "\n",
    "# Save the results in a variable\n",
    "results=soup.find_all(\"div\", class_=\"product-card__body\")\n",
    "\n",
    "# Loop through the results\n",
    "for result in results:\n",
    "    \n",
    "    # Pull the item name\n",
    "    item=result.find(\"div\",class_=\"product-card__title\")\n",
    "    # Pull the item price\n",
    "    price=result.find(\"div\",class_=\"product-card__price\")\n",
    "    # Pull the item link\n",
    "    link=result.a[\"href\"]\n",
    "\n",
    "# Append the items, categories and colors lists\n",
    "    items.append(item.text)\n",
    "    genders.append(\"Boys\")\n",
    "    links.append(link)\n",
    "    \n",
    "    # Exception handling for items listed without prices\n",
    "    try:\n",
    "        prices.append(price.text)\n",
    "    except AttributeError:\n",
    "        prices.append(\"N/A\")"
   ]
  },
  {
   "cell_type": "code",
   "execution_count": 19,
   "id": "579c0136",
   "metadata": {},
   "outputs": [],
   "source": [
    "# Close the browser\n",
    "browser.quit()"
   ]
  },
  {
   "cell_type": "markdown",
   "id": "5a295603",
   "metadata": {},
   "source": [
    "### Girls' Shoes"
   ]
  },
  {
   "cell_type": "code",
   "execution_count": 20,
   "id": "ebf7f391",
   "metadata": {},
   "outputs": [
    {
     "name": "stderr",
     "output_type": "stream",
     "text": [
      "\n",
      "\n",
      "====== WebDriver manager ======\n",
      "Current google-chrome version is 96.0.4664\n",
      "Get LATEST chromedriver version for 96.0.4664 google-chrome\n",
      "Driver [C:\\Users\\JINK\\.wdm\\drivers\\chromedriver\\win32\\96.0.4664.45\\chromedriver.exe] found in cache\n"
     ]
    }
   ],
   "source": [
    "# Setup splinter\n",
    "executable_path = {'executable_path': ChromeDriverManager().install()}\n",
    "browser = Browser('chrome', **executable_path, headless=False)"
   ]
  },
  {
   "cell_type": "code",
   "execution_count": 21,
   "id": "5e026381",
   "metadata": {},
   "outputs": [],
   "source": [
    "# URL of the home page of the access\n",
    "url = 'https://www.nike.com/w/girls-shoes-3aqegzy7ok'\n",
    "browser.visit(url)\n",
    "\n",
    "# Resize the window size\n",
    "browser.driver.set_window_size(1320,1000)\n",
    "\n",
    "# Apply a 5-seconde delay to allow the page to load\n",
    "time.sleep(5)"
   ]
  },
  {
   "cell_type": "code",
   "execution_count": 22,
   "id": "702cc4ca",
   "metadata": {},
   "outputs": [],
   "source": [
    "# Create a Beautiful Soup object\n",
    "html = browser.html\n",
    "soup = BeautifulSoup(html, 'html.parser')"
   ]
  },
  {
   "cell_type": "code",
   "execution_count": 23,
   "id": "b5432e14",
   "metadata": {},
   "outputs": [
    {
     "name": "stdout",
     "output_type": "stream",
     "text": [
      "The total number of items available is: 475\n",
      "The total number of time to scroll down needed is: 19\n"
     ]
    }
   ],
   "source": [
    "# Number of items loaded to the page to be scraped every time we scroll to the bottom of the page\n",
    "items_displayed=24\n",
    "\n",
    "# Set a variable to scroll to the bottom of the page to be scraped\n",
    "scroll = \"window.scrollTo(0, document.body.scrollHeight);\"\n",
    "# browser.execute_script(scrollJS)\n",
    "\n",
    "item_count=soup.find(\"span\",class_=\"wall-header__item_count\").text\n",
    "\n",
    "# Parse through the item_count and extract the digit part\n",
    "available_items=re.sub('[()]', '', item_count)\n",
    "\n",
    "# Convert the available_items to integer\n",
    "total_items=pd.to_numeric(available_items)\n",
    "print(f\"The total number of items available is: {total_items}\")\n",
    "\n",
    "# Determine the total number of times to scroll down\n",
    "scroll_num=math.ceil((total_items/items_displayed)-1)\n",
    "print(f\"The total number of time to scroll down needed is: {scroll_num}\")"
   ]
  },
  {
   "cell_type": "code",
   "execution_count": 24,
   "id": "9bbddaad",
   "metadata": {},
   "outputs": [],
   "source": [
    "# Perform the scrolls down with a 5-seconde time delay between each one to allow the page to load\n",
    "for i in range(scroll_num):\n",
    "    browser.execute_script(scroll)   \n",
    "    time.sleep(5)\n",
    "\n",
    "# Reset the Beautiful Soup object with the fully loaded page\n",
    "html = browser.html\n",
    "soup = BeautifulSoup(html, 'html.parser')    \n",
    "\n",
    "# Save the results in a variable\n",
    "results=soup.find_all(\"div\", class_=\"product-card__body\")\n",
    "\n",
    "# Loop through the results\n",
    "for result in results:\n",
    "    \n",
    "    # Pull the item name\n",
    "    item=result.find(\"div\",class_=\"product-card__title\")\n",
    "    # Pull the item price\n",
    "    price=result.find(\"div\",class_=\"product-card__price\")\n",
    "    # Pull the item link\n",
    "    link=result.a[\"href\"]\n",
    "\n",
    "# Append the items, categories and colors lists\n",
    "    items.append(item.text)\n",
    "    genders.append(\"Girls\")\n",
    "    links.append(link)\n",
    "    \n",
    "    # Exception handling for items listed without prices\n",
    "    try:\n",
    "        prices.append(price.text)\n",
    "    except AttributeError:\n",
    "        prices.append(\"N/A\")"
   ]
  },
  {
   "cell_type": "code",
   "execution_count": 25,
   "id": "79be29f0",
   "metadata": {},
   "outputs": [],
   "source": [
    "# Close the browser\n",
    "browser.quit()"
   ]
  },
  {
   "cell_type": "markdown",
   "id": "88b1fb6a",
   "metadata": {},
   "source": [
    "# Transformation"
   ]
  },
  {
   "cell_type": "code",
   "execution_count": 32,
   "id": "525f69d3",
   "metadata": {
    "scrolled": true
   },
   "outputs": [
    {
     "data": {
      "text/html": [
       "<div>\n",
       "<style scoped>\n",
       "    .dataframe tbody tr th:only-of-type {\n",
       "        vertical-align: middle;\n",
       "    }\n",
       "\n",
       "    .dataframe tbody tr th {\n",
       "        vertical-align: top;\n",
       "    }\n",
       "\n",
       "    .dataframe thead th {\n",
       "        text-align: right;\n",
       "    }\n",
       "</style>\n",
       "<table border=\"1\" class=\"dataframe\">\n",
       "  <thead>\n",
       "    <tr style=\"text-align: right;\">\n",
       "      <th></th>\n",
       "      <th>Name</th>\n",
       "      <th>Price</th>\n",
       "      <th>Gender</th>\n",
       "      <th>URL</th>\n",
       "    </tr>\n",
       "  </thead>\n",
       "  <tbody>\n",
       "    <tr>\n",
       "      <th>0</th>\n",
       "      <td>Nike Blazer Mid '77 Vintage</td>\n",
       "      <td>$100</td>\n",
       "      <td>Men</td>\n",
       "      <td>https://www.nike.com/t/blazer-mid-77-vintage-m...</td>\n",
       "    </tr>\n",
       "    <tr>\n",
       "      <th>1</th>\n",
       "      <td>Nike Air Max 90</td>\n",
       "      <td>$120</td>\n",
       "      <td>Men</td>\n",
       "      <td>https://www.nike.com/t/air-max-90-mens-shoes-6...</td>\n",
       "    </tr>\n",
       "    <tr>\n",
       "      <th>2</th>\n",
       "      <td>Nike Air Max 97</td>\n",
       "      <td>$170</td>\n",
       "      <td>Men</td>\n",
       "      <td>https://www.nike.com/t/air-max-97-mens-shoe-SD...</td>\n",
       "    </tr>\n",
       "    <tr>\n",
       "      <th>3</th>\n",
       "      <td>Nike Air Vapormax 2021 FK</td>\n",
       "      <td>$200</td>\n",
       "      <td>Men</td>\n",
       "      <td>https://www.nike.com/t/air-vapormax-2021-fk-me...</td>\n",
       "    </tr>\n",
       "    <tr>\n",
       "      <th>4</th>\n",
       "      <td>Nike ZoomX Invincible Run Flyknit</td>\n",
       "      <td>$180</td>\n",
       "      <td>Men</td>\n",
       "      <td>https://www.nike.com/t/zoomx-invincible-run-fl...</td>\n",
       "    </tr>\n",
       "  </tbody>\n",
       "</table>\n",
       "</div>"
      ],
      "text/plain": [
       "                                Name Price Gender  \\\n",
       "0        Nike Blazer Mid '77 Vintage  $100    Men   \n",
       "1                    Nike Air Max 90  $120    Men   \n",
       "2                    Nike Air Max 97  $170    Men   \n",
       "3          Nike Air Vapormax 2021 FK  $200    Men   \n",
       "4  Nike ZoomX Invincible Run Flyknit  $180    Men   \n",
       "\n",
       "                                                 URL  \n",
       "0  https://www.nike.com/t/blazer-mid-77-vintage-m...  \n",
       "1  https://www.nike.com/t/air-max-90-mens-shoes-6...  \n",
       "2  https://www.nike.com/t/air-max-97-mens-shoe-SD...  \n",
       "3  https://www.nike.com/t/air-vapormax-2021-fk-me...  \n",
       "4  https://www.nike.com/t/zoomx-invincible-run-fl...  "
      ]
     },
     "execution_count": 32,
     "metadata": {},
     "output_type": "execute_result"
    }
   ],
   "source": [
    "# Turn the data scraped into a DataFrame\n",
    "initial_df=pd.DataFrame({\"Name\":items,\"Price\":prices,\"Gender\":genders,\"URL\":links})\n",
    "\n",
    "# Print the 5 first rows of the DataFrame\n",
    "initial_df.head()"
   ]
  },
  {
   "cell_type": "code",
   "execution_count": 33,
   "id": "0a3c1bdd",
   "metadata": {},
   "outputs": [
    {
     "name": "stdout",
     "output_type": "stream",
     "text": [
      "<class 'pandas.core.frame.DataFrame'>\n",
      "RangeIndex: 2194 entries, 0 to 2193\n",
      "Data columns (total 4 columns):\n",
      " #   Column  Non-Null Count  Dtype \n",
      "---  ------  --------------  ----- \n",
      " 0   Name    2194 non-null   object\n",
      " 1   Price   2194 non-null   object\n",
      " 2   Gender  2194 non-null   object\n",
      " 3   URL     2194 non-null   object\n",
      "dtypes: object(4)\n",
      "memory usage: 68.7+ KB\n"
     ]
    }
   ],
   "source": [
    "# Inspect the columns data type\n",
    "initial_df.info()"
   ]
  },
  {
   "cell_type": "code",
   "execution_count": 34,
   "id": "e08ae051",
   "metadata": {},
   "outputs": [],
   "source": [
    "# Select all the rows except the ones without price\n",
    "nike_df=initial_df.loc[initial_df[\"Price\"]!=\"N/A\"]\n",
    "\n",
    "# Deactivate the warning for chained assignment\n",
    "pd.options.mode.chained_assignment = None \n",
    "\n",
    "# Parse through the item_count and extract the digit part of the current price\n",
    "nike_df[\"Price\"]=[re.split(r\"\\$+\", i)[1] for i in nike_df[\"Price\"]]\n",
    "\n",
    "# Convert the available_items to decimal\n",
    "nike_df[\"Price\"]=nike_df[\"Price\"].astype(float)"
   ]
  },
  {
   "cell_type": "code",
   "execution_count": 35,
   "id": "35508636",
   "metadata": {
    "scrolled": false
   },
   "outputs": [
    {
     "name": "stdout",
     "output_type": "stream",
     "text": [
      "<class 'pandas.core.frame.DataFrame'>\n",
      "Int64Index: 2190 entries, 0 to 2193\n",
      "Data columns (total 4 columns):\n",
      " #   Column  Non-Null Count  Dtype  \n",
      "---  ------  --------------  -----  \n",
      " 0   Name    2190 non-null   object \n",
      " 1   Price   2190 non-null   float64\n",
      " 2   Gender  2190 non-null   object \n",
      " 3   URL     2190 non-null   object \n",
      "dtypes: float64(1), object(3)\n",
      "memory usage: 85.5+ KB\n"
     ]
    }
   ],
   "source": [
    "# Inspect the columns data type of the updated_df\n",
    "nike_df.info()"
   ]
  },
  {
   "cell_type": "code",
   "execution_count": 36,
   "id": "f4b86719",
   "metadata": {},
   "outputs": [
    {
     "data": {
      "text/html": [
       "<div>\n",
       "<style scoped>\n",
       "    .dataframe tbody tr th:only-of-type {\n",
       "        vertical-align: middle;\n",
       "    }\n",
       "\n",
       "    .dataframe tbody tr th {\n",
       "        vertical-align: top;\n",
       "    }\n",
       "\n",
       "    .dataframe thead th {\n",
       "        text-align: right;\n",
       "    }\n",
       "</style>\n",
       "<table border=\"1\" class=\"dataframe\">\n",
       "  <thead>\n",
       "    <tr style=\"text-align: right;\">\n",
       "      <th></th>\n",
       "      <th>Name</th>\n",
       "      <th>Price</th>\n",
       "      <th>Gender</th>\n",
       "      <th>URL</th>\n",
       "    </tr>\n",
       "  </thead>\n",
       "  <tbody>\n",
       "    <tr>\n",
       "      <th>0</th>\n",
       "      <td>Nike Blazer Mid '77 Vintage</td>\n",
       "      <td>100.0</td>\n",
       "      <td>Men</td>\n",
       "      <td>https://www.nike.com/t/blazer-mid-77-vintage-m...</td>\n",
       "    </tr>\n",
       "    <tr>\n",
       "      <th>1</th>\n",
       "      <td>Nike Air Max 90</td>\n",
       "      <td>120.0</td>\n",
       "      <td>Men</td>\n",
       "      <td>https://www.nike.com/t/air-max-90-mens-shoes-6...</td>\n",
       "    </tr>\n",
       "    <tr>\n",
       "      <th>2</th>\n",
       "      <td>Nike Air Max 97</td>\n",
       "      <td>170.0</td>\n",
       "      <td>Men</td>\n",
       "      <td>https://www.nike.com/t/air-max-97-mens-shoe-SD...</td>\n",
       "    </tr>\n",
       "    <tr>\n",
       "      <th>3</th>\n",
       "      <td>Nike Air Vapormax 2021 FK</td>\n",
       "      <td>200.0</td>\n",
       "      <td>Men</td>\n",
       "      <td>https://www.nike.com/t/air-vapormax-2021-fk-me...</td>\n",
       "    </tr>\n",
       "    <tr>\n",
       "      <th>4</th>\n",
       "      <td>Nike ZoomX Invincible Run Flyknit</td>\n",
       "      <td>180.0</td>\n",
       "      <td>Men</td>\n",
       "      <td>https://www.nike.com/t/zoomx-invincible-run-fl...</td>\n",
       "    </tr>\n",
       "  </tbody>\n",
       "</table>\n",
       "</div>"
      ],
      "text/plain": [
       "                                Name  Price Gender  \\\n",
       "0        Nike Blazer Mid '77 Vintage  100.0    Men   \n",
       "1                    Nike Air Max 90  120.0    Men   \n",
       "2                    Nike Air Max 97  170.0    Men   \n",
       "3          Nike Air Vapormax 2021 FK  200.0    Men   \n",
       "4  Nike ZoomX Invincible Run Flyknit  180.0    Men   \n",
       "\n",
       "                                                 URL  \n",
       "0  https://www.nike.com/t/blazer-mid-77-vintage-m...  \n",
       "1  https://www.nike.com/t/air-max-90-mens-shoes-6...  \n",
       "2  https://www.nike.com/t/air-max-97-mens-shoe-SD...  \n",
       "3  https://www.nike.com/t/air-vapormax-2021-fk-me...  \n",
       "4  https://www.nike.com/t/zoomx-invincible-run-fl...  "
      ]
     },
     "execution_count": 36,
     "metadata": {},
     "output_type": "execute_result"
    }
   ],
   "source": [
    "nike_df.head()"
   ]
  },
  {
   "cell_type": "code",
   "execution_count": 37,
   "id": "73186c7d",
   "metadata": {},
   "outputs": [],
   "source": [
    "# Export the DataFrame in .csv file\n",
    "nike_df.to_csv(\"Output/nike.csv\",index=False)"
   ]
  }
 ],
 "metadata": {
  "kernelspec": {
   "display_name": "Python 3",
   "language": "python",
   "name": "python3"
  },
  "language_info": {
   "codemirror_mode": {
    "name": "ipython",
    "version": 3
   },
   "file_extension": ".py",
   "mimetype": "text/x-python",
   "name": "python",
   "nbconvert_exporter": "python",
   "pygments_lexer": "ipython3",
   "version": "3.8.8"
  }
 },
 "nbformat": 4,
 "nbformat_minor": 5
}
