{
 "cells": [
  {
   "cell_type": "code",
   "execution_count": 1,
   "id": "424a274b",
   "metadata": {},
   "outputs": [],
   "source": [
    "# Import Dependecies\n",
    "import pandas as pd\n",
    "from splinter import Browser\n",
    "from bs4 import BeautifulSoup\n",
    "from webdriver_manager.chrome import ChromeDriverManager\n",
    "import time\n",
    "import re\n",
    "import math\n",
    "from sqlalchemy import create_engine\n",
    "from config import USERNAME, PASSWORD"
   ]
  },
  {
   "cell_type": "markdown",
   "id": "ab2c9d9e",
   "metadata": {},
   "source": [
    "# Extraction\n",
    "\n",
    "Data source:https://www.nike.com/"
   ]
  },
  {
   "cell_type": "markdown",
   "id": "9b6ba84f",
   "metadata": {},
   "source": [
    "### Men's Shoes"
   ]
  },
  {
   "cell_type": "code",
   "execution_count": 2,
   "id": "0d8a663a",
   "metadata": {
    "scrolled": true
   },
   "outputs": [
    {
     "name": "stderr",
     "output_type": "stream",
     "text": [
      "\n",
      "\n",
      "====== WebDriver manager ======\n",
      "Current google-chrome version is 96.0.4664\n",
      "Get LATEST chromedriver version for 96.0.4664 google-chrome\n",
      "Driver [C:\\Users\\JINK\\.wdm\\drivers\\chromedriver\\win32\\96.0.4664.45\\chromedriver.exe] found in cache\n"
     ]
    }
   ],
   "source": [
    "# Setup splinter\n",
    "executable_path = {'executable_path': ChromeDriverManager().install()}\n",
    "browser = Browser('chrome', **executable_path, headless=False)"
   ]
  },
  {
   "cell_type": "code",
   "execution_count": 3,
   "id": "bbe4ccb0",
   "metadata": {},
   "outputs": [],
   "source": [
    "# URL of the home page of the access\n",
    "url = 'https://www.nike.com/w/mens-shoes-nik1zy7ok'\n",
    "browser.visit(url)\n",
    "\n",
    "# Resize the window size\n",
    "browser.driver.set_window_size(1320,1000)\n",
    "\n",
    "# Apply a 5-seconde delay to allow the page to load\n",
    "time.sleep(5)"
   ]
  },
  {
   "cell_type": "code",
   "execution_count": 4,
   "id": "c83b436f",
   "metadata": {},
   "outputs": [],
   "source": [
    "# Create a Beautiful Soup object\n",
    "html = browser.html\n",
    "soup = BeautifulSoup(html, 'html.parser')"
   ]
  },
  {
   "cell_type": "code",
   "execution_count": 5,
   "id": "056e1f43",
   "metadata": {},
   "outputs": [
    {
     "name": "stdout",
     "output_type": "stream",
     "text": [
      "The total number of items available is: 666\n",
      "The total number of time to scroll down needed is: 27\n"
     ]
    }
   ],
   "source": [
    "# Number of items loaded to the page to be scraped every time we scroll to the bottom of the page\n",
    "items_displayed=24\n",
    "\n",
    "# Set a variable to scroll to the bottom of the page to be scraped\n",
    "scroll = \"window.scrollTo(0, document.body.scrollHeight);\"\n",
    "# browser.execute_script(scrollJS)\n",
    "\n",
    "item_count=soup.find(\"span\",class_=\"wall-header__item_count\").text\n",
    "\n",
    "# Parse through the item_count and extract the digit part\n",
    "available_items=re.sub('[()]', '', item_count)\n",
    "\n",
    "# Convert the available_items to integer\n",
    "total_items=pd.to_numeric(available_items)\n",
    "print(f\"The total number of items available is: {total_items}\")\n",
    "\n",
    "# Determine the total number of times to scroll down\n",
    "scroll_num=math.ceil((total_items/items_displayed)-1)\n",
    "print(f\"The total number of time to scroll down needed is: {scroll_num}\")"
   ]
  },
  {
   "cell_type": "code",
   "execution_count": 6,
   "id": "1593059d",
   "metadata": {},
   "outputs": [],
   "source": [
    "# Create empty lists to holds the data to be scraped\n",
    "items=[]\n",
    "genders=[]\n",
    "prices=[]\n",
    "links=[]\n",
    "\n",
    "# Perform the scrolls down with a 5-seconde time delay between each one to allow the page to load\n",
    "for i in range(scroll_num):\n",
    "    browser.execute_script(scroll)   \n",
    "    time.sleep(5)\n",
    "\n",
    "# Reset the Beautiful Soup object with the fully loaded page\n",
    "html = browser.html\n",
    "soup = BeautifulSoup(html, 'html.parser')    \n",
    "\n",
    "# Save the results in a variable\n",
    "results=soup.find_all(\"div\", class_=\"product-card__body\")\n",
    "\n",
    "# Loop through the results\n",
    "for result in results:\n",
    "    \n",
    "    # Pull the item name\n",
    "    item=result.find(\"div\",class_=\"product-card__title\")\n",
    "    # Pull the item price\n",
    "    price=result.find(\"div\",class_=\"product-card__price\")\n",
    "    # Pull the item link\n",
    "    link=result.a[\"href\"]\n",
    "\n",
    "# Append the items, categories and colors lists\n",
    "    items.append(item.text)\n",
    "    genders.append(\"Men\")\n",
    "    links.append(link)\n",
    "    \n",
    "    # Exception handling for items listed without prices\n",
    "    try:\n",
    "        prices.append(price.text)\n",
    "    except AttributeError:\n",
    "        prices.append(\"N/A\")"
   ]
  },
  {
   "cell_type": "code",
   "execution_count": 7,
   "id": "906483e8",
   "metadata": {},
   "outputs": [],
   "source": [
    "# Close the browser\n",
    "browser.quit()"
   ]
  },
  {
   "cell_type": "markdown",
   "id": "8aaa73b7",
   "metadata": {},
   "source": [
    "### Women's Shoes"
   ]
  },
  {
   "cell_type": "code",
   "execution_count": 8,
   "id": "57bb0bff",
   "metadata": {},
   "outputs": [
    {
     "name": "stderr",
     "output_type": "stream",
     "text": [
      "\n",
      "\n",
      "====== WebDriver manager ======\n",
      "Current google-chrome version is 96.0.4664\n",
      "Get LATEST chromedriver version for 96.0.4664 google-chrome\n",
      "Driver [C:\\Users\\JINK\\.wdm\\drivers\\chromedriver\\win32\\96.0.4664.45\\chromedriver.exe] found in cache\n"
     ]
    }
   ],
   "source": [
    "# Setup splinter\n",
    "executable_path = {'executable_path': ChromeDriverManager().install()}\n",
    "browser = Browser('chrome', **executable_path, headless=False)"
   ]
  },
  {
   "cell_type": "code",
   "execution_count": 9,
   "id": "8c345ac4",
   "metadata": {},
   "outputs": [],
   "source": [
    "# URL of the home page of the access\n",
    "url = 'https://www.nike.com/w/womens-shoes-5e1x6zy7ok'\n",
    "browser.visit(url)\n",
    "\n",
    "# Resize the window size\n",
    "browser.driver.set_window_size(1320,1000)\n",
    "\n",
    "# Apply a 5-seconde delay to allow the page to load\n",
    "time.sleep(5)"
   ]
  },
  {
   "cell_type": "code",
   "execution_count": 10,
   "id": "fee60d15",
   "metadata": {},
   "outputs": [],
   "source": [
    "# Create a Beautiful Soup object\n",
    "html = browser.html\n",
    "soup = BeautifulSoup(html, 'html.parser')"
   ]
  },
  {
   "cell_type": "code",
   "execution_count": 11,
   "id": "a3d55b13",
   "metadata": {},
   "outputs": [
    {
     "name": "stdout",
     "output_type": "stream",
     "text": [
      "The total number of items available is: 531\n",
      "The total number of time to scroll down needed is: 22\n"
     ]
    }
   ],
   "source": [
    "# Number of items loaded to the page to be scraped every time we scroll to the bottom of the page\n",
    "items_displayed=24\n",
    "\n",
    "# Set a variable to scroll to the bottom of the page to be scraped\n",
    "scroll = \"window.scrollTo(0, document.body.scrollHeight);\"\n",
    "# browser.execute_script(scrollJS)\n",
    "\n",
    "item_count=soup.find(\"span\",class_=\"wall-header__item_count\").text\n",
    "\n",
    "# Parse through the item_count and extract the digit part\n",
    "available_items=re.sub('[()]', '', item_count)\n",
    "\n",
    "# Convert the available_items to integer\n",
    "total_items=pd.to_numeric(available_items)\n",
    "print(f\"The total number of items available is: {total_items}\")\n",
    "\n",
    "# Determine the total number of times to scroll down\n",
    "scroll_num=math.ceil((total_items/items_displayed)-1)\n",
    "print(f\"The total number of time to scroll down needed is: {scroll_num}\")"
   ]
  },
  {
   "cell_type": "code",
   "execution_count": 12,
   "id": "a8b31500",
   "metadata": {},
   "outputs": [],
   "source": [
    "# Perform the scrolls down with a 5-seconde time delay between each one to allow the page to load\n",
    "for i in range(scroll_num):\n",
    "    browser.execute_script(scroll)   \n",
    "    time.sleep(5)\n",
    "\n",
    "# Reset the Beautiful Soup object with the fully loaded page\n",
    "html = browser.html\n",
    "soup = BeautifulSoup(html, 'html.parser')    \n",
    "\n",
    "# Save the results in a variable\n",
    "results=soup.find_all(\"div\", class_=\"product-card__body\")\n",
    "\n",
    "# Loop through the results\n",
    "for result in results:\n",
    "    \n",
    "    # Pull the item name\n",
    "    item=result.find(\"div\",class_=\"product-card__title\")\n",
    "    # Pull the item price\n",
    "    price=result.find(\"div\",class_=\"product-card__price\")\n",
    "    # Pull the item link\n",
    "    link=result.a[\"href\"]\n",
    "\n",
    "# Append the items, categories and colors lists\n",
    "    items.append(item.text)\n",
    "    genders.append(\"Women\")\n",
    "    links.append(link)\n",
    "    \n",
    "    # Exception handling for items listed without prices\n",
    "    try:\n",
    "        prices.append(price.text)\n",
    "    except AttributeError:\n",
    "        prices.append(\"N/A\")"
   ]
  },
  {
   "cell_type": "code",
   "execution_count": 13,
   "id": "2da2236b",
   "metadata": {},
   "outputs": [],
   "source": [
    "# Close the browser\n",
    "browser.quit()"
   ]
  },
  {
   "cell_type": "markdown",
   "id": "af36e0c4",
   "metadata": {},
   "source": [
    "### Boys' Shoes"
   ]
  },
  {
   "cell_type": "code",
   "execution_count": 14,
   "id": "08a804c9",
   "metadata": {},
   "outputs": [
    {
     "name": "stderr",
     "output_type": "stream",
     "text": [
      "\n",
      "\n",
      "====== WebDriver manager ======\n",
      "Current google-chrome version is 96.0.4664\n",
      "Get LATEST chromedriver version for 96.0.4664 google-chrome\n",
      "Driver [C:\\Users\\JINK\\.wdm\\drivers\\chromedriver\\win32\\96.0.4664.45\\chromedriver.exe] found in cache\n"
     ]
    }
   ],
   "source": [
    "# Setup splinter\n",
    "executable_path = {'executable_path': ChromeDriverManager().install()}\n",
    "browser = Browser('chrome', **executable_path, headless=False)"
   ]
  },
  {
   "cell_type": "code",
   "execution_count": 15,
   "id": "6e10b784",
   "metadata": {},
   "outputs": [],
   "source": [
    "# URL of the home page of the access\n",
    "url = 'https://www.nike.com/w/boys-shoes-1onrazy7ok'\n",
    "browser.visit(url)\n",
    "\n",
    "# Resize the window size\n",
    "browser.driver.set_window_size(1320,1000)\n",
    "\n",
    "# Apply a 5-seconde delay to allow the page to load\n",
    "time.sleep(5)"
   ]
  },
  {
   "cell_type": "code",
   "execution_count": 16,
   "id": "c46646d7",
   "metadata": {},
   "outputs": [],
   "source": [
    "# Create a Beautiful Soup object\n",
    "html = browser.html\n",
    "soup = BeautifulSoup(html, 'html.parser')"
   ]
  },
  {
   "cell_type": "code",
   "execution_count": 17,
   "id": "442bb530",
   "metadata": {},
   "outputs": [
    {
     "name": "stdout",
     "output_type": "stream",
     "text": [
      "The total number of items available is: 488\n",
      "The total number of time to scroll down needed is: 20\n"
     ]
    }
   ],
   "source": [
    "# Number of items loaded to the page to be scraped every time we scroll to the bottom of the page\n",
    "items_displayed=24\n",
    "\n",
    "# Set a variable to scroll to the bottom of the page to be scraped\n",
    "scroll = \"window.scrollTo(0, document.body.scrollHeight);\"\n",
    "# browser.execute_script(scrollJS)\n",
    "\n",
    "item_count=soup.find(\"span\",class_=\"wall-header__item_count\").text\n",
    "\n",
    "# Parse through the item_count and extract the digit part\n",
    "available_items=re.sub('[()]', '', item_count)\n",
    "\n",
    "# Convert the available_items to integer\n",
    "total_items=pd.to_numeric(available_items)\n",
    "print(f\"The total number of items available is: {total_items}\")\n",
    "\n",
    "# Determine the total number of times to scroll down\n",
    "scroll_num=math.ceil((total_items/items_displayed)-1)\n",
    "print(f\"The total number of time to scroll down needed is: {scroll_num}\")"
   ]
  },
  {
   "cell_type": "code",
   "execution_count": 18,
   "id": "d058486d",
   "metadata": {},
   "outputs": [],
   "source": [
    "# Perform the scrolls down with a 5-seconde time delay between each one to allow the page to load\n",
    "for i in range(scroll_num):\n",
    "    browser.execute_script(scroll)   \n",
    "    time.sleep(5)\n",
    "\n",
    "# Reset the Beautiful Soup object with the fully loaded page\n",
    "html = browser.html\n",
    "soup = BeautifulSoup(html, 'html.parser')    \n",
    "\n",
    "# Save the results in a variable\n",
    "results=soup.find_all(\"div\", class_=\"product-card__body\")\n",
    "\n",
    "# Loop through the results\n",
    "for result in results:\n",
    "    \n",
    "    # Pull the item name\n",
    "    item=result.find(\"div\",class_=\"product-card__title\")\n",
    "    # Pull the item price\n",
    "    price=result.find(\"div\",class_=\"product-card__price\")\n",
    "    # Pull the item link\n",
    "    link=result.a[\"href\"]\n",
    "\n",
    "# Append the items, categories and colors lists\n",
    "    items.append(item.text)\n",
    "    genders.append(\"Boys\")\n",
    "    links.append(link)\n",
    "    \n",
    "    # Exception handling for items listed without prices\n",
    "    try:\n",
    "        prices.append(price.text)\n",
    "    except AttributeError:\n",
    "        prices.append(\"N/A\")"
   ]
  },
  {
   "cell_type": "code",
   "execution_count": 19,
   "id": "579c0136",
   "metadata": {},
   "outputs": [],
   "source": [
    "# Close the browser\n",
    "browser.quit()"
   ]
  },
  {
   "cell_type": "markdown",
   "id": "5a295603",
   "metadata": {},
   "source": [
    "### Girls' Shoes"
   ]
  },
  {
   "cell_type": "code",
   "execution_count": 20,
   "id": "ebf7f391",
   "metadata": {},
   "outputs": [
    {
     "name": "stderr",
     "output_type": "stream",
     "text": [
      "\n",
      "\n",
      "====== WebDriver manager ======\n",
      "Current google-chrome version is 96.0.4664\n",
      "Get LATEST chromedriver version for 96.0.4664 google-chrome\n",
      "Driver [C:\\Users\\JINK\\.wdm\\drivers\\chromedriver\\win32\\96.0.4664.45\\chromedriver.exe] found in cache\n"
     ]
    }
   ],
   "source": [
    "# Setup splinter\n",
    "executable_path = {'executable_path': ChromeDriverManager().install()}\n",
    "browser = Browser('chrome', **executable_path, headless=False)"
   ]
  },
  {
   "cell_type": "code",
   "execution_count": 21,
   "id": "5e026381",
   "metadata": {},
   "outputs": [],
   "source": [
    "# URL of the home page of the access\n",
    "url = 'https://www.nike.com/w/girls-shoes-3aqegzy7ok'\n",
    "browser.visit(url)\n",
    "\n",
    "# Resize the window size\n",
    "browser.driver.set_window_size(1320,1000)\n",
    "\n",
    "# Apply a 5-seconde delay to allow the page to load\n",
    "time.sleep(5)"
   ]
  },
  {
   "cell_type": "code",
   "execution_count": 22,
   "id": "702cc4ca",
   "metadata": {},
   "outputs": [],
   "source": [
    "# Create a Beautiful Soup object\n",
    "html = browser.html\n",
    "soup = BeautifulSoup(html, 'html.parser')"
   ]
  },
  {
   "cell_type": "code",
   "execution_count": 23,
   "id": "b5432e14",
   "metadata": {},
   "outputs": [
    {
     "name": "stdout",
     "output_type": "stream",
     "text": [
      "The total number of items available is: 468\n",
      "The total number of time to scroll down needed is: 19\n"
     ]
    }
   ],
   "source": [
    "# Number of items loaded to the page to be scraped every time we scroll to the bottom of the page\n",
    "items_displayed=24\n",
    "\n",
    "# Set a variable to scroll to the bottom of the page to be scraped\n",
    "scroll = \"window.scrollTo(0, document.body.scrollHeight);\"\n",
    "# browser.execute_script(scrollJS)\n",
    "\n",
    "item_count=soup.find(\"span\",class_=\"wall-header__item_count\").text\n",
    "\n",
    "# Parse through the item_count and extract the digit part\n",
    "available_items=re.sub('[()]', '', item_count)\n",
    "\n",
    "# Convert the available_items to integer\n",
    "total_items=pd.to_numeric(available_items)\n",
    "print(f\"The total number of items available is: {total_items}\")\n",
    "\n",
    "# Determine the total number of times to scroll down\n",
    "scroll_num=math.ceil((total_items/items_displayed)-1)\n",
    "print(f\"The total number of time to scroll down needed is: {scroll_num}\")"
   ]
  },
  {
   "cell_type": "code",
   "execution_count": 24,
   "id": "9bbddaad",
   "metadata": {},
   "outputs": [],
   "source": [
    "# Perform the scrolls down with a 5-seconde time delay between each one to allow the page to load\n",
    "for i in range(scroll_num):\n",
    "    browser.execute_script(scroll)   \n",
    "    time.sleep(5)\n",
    "\n",
    "# Reset the Beautiful Soup object with the fully loaded page\n",
    "html = browser.html\n",
    "soup = BeautifulSoup(html, 'html.parser')    \n",
    "\n",
    "# Save the results in a variable\n",
    "results=soup.find_all(\"div\", class_=\"product-card__body\")\n",
    "\n",
    "# Loop through the results\n",
    "for result in results:\n",
    "    \n",
    "    # Pull the item name\n",
    "    item=result.find(\"div\",class_=\"product-card__title\")\n",
    "    # Pull the item price\n",
    "    price=result.find(\"div\",class_=\"product-card__price\")\n",
    "    # Pull the item link\n",
    "    link=result.a[\"href\"]\n",
    "\n",
    "# Append the items, categories and colors lists\n",
    "    items.append(item.text)\n",
    "    genders.append(\"Girls\")\n",
    "    links.append(link)\n",
    "    \n",
    "    # Exception handling for items listed without prices\n",
    "    try:\n",
    "        prices.append(price.text)\n",
    "    except AttributeError:\n",
    "        prices.append(\"N/A\")"
   ]
  },
  {
   "cell_type": "code",
   "execution_count": 25,
   "id": "79be29f0",
   "metadata": {},
   "outputs": [],
   "source": [
    "# Close the browser\n",
    "browser.quit()"
   ]
  },
  {
   "cell_type": "markdown",
   "id": "88b1fb6a",
   "metadata": {},
   "source": [
    "# Transformation"
   ]
  },
  {
   "cell_type": "code",
   "execution_count": 26,
   "id": "525f69d3",
   "metadata": {
    "scrolled": true
   },
   "outputs": [
    {
     "data": {
      "text/html": [
       "<div>\n",
       "<style scoped>\n",
       "    .dataframe tbody tr th:only-of-type {\n",
       "        vertical-align: middle;\n",
       "    }\n",
       "\n",
       "    .dataframe tbody tr th {\n",
       "        vertical-align: top;\n",
       "    }\n",
       "\n",
       "    .dataframe thead th {\n",
       "        text-align: right;\n",
       "    }\n",
       "</style>\n",
       "<table border=\"1\" class=\"dataframe\">\n",
       "  <thead>\n",
       "    <tr style=\"text-align: right;\">\n",
       "      <th></th>\n",
       "      <th>Item</th>\n",
       "      <th>Gender</th>\n",
       "      <th>Price</th>\n",
       "      <th>URL</th>\n",
       "    </tr>\n",
       "  </thead>\n",
       "  <tbody>\n",
       "    <tr>\n",
       "      <th>0</th>\n",
       "      <td>Nike Blazer Mid '77 Vintage</td>\n",
       "      <td>Men</td>\n",
       "      <td>$100</td>\n",
       "      <td>https://www.nike.com/t/blazer-mid-77-vintage-m...</td>\n",
       "    </tr>\n",
       "    <tr>\n",
       "      <th>1</th>\n",
       "      <td>Nike Air Max 90</td>\n",
       "      <td>Men</td>\n",
       "      <td>$120</td>\n",
       "      <td>https://www.nike.com/t/air-max-90-mens-shoes-6...</td>\n",
       "    </tr>\n",
       "    <tr>\n",
       "      <th>2</th>\n",
       "      <td>Nike Air Max 97</td>\n",
       "      <td>Men</td>\n",
       "      <td>$170</td>\n",
       "      <td>https://www.nike.com/t/air-max-97-mens-shoe-SD...</td>\n",
       "    </tr>\n",
       "    <tr>\n",
       "      <th>3</th>\n",
       "      <td>Nike Air Vapormax 2021 FK</td>\n",
       "      <td>Men</td>\n",
       "      <td>$200</td>\n",
       "      <td>https://www.nike.com/t/air-vapormax-2021-fk-me...</td>\n",
       "    </tr>\n",
       "    <tr>\n",
       "      <th>4</th>\n",
       "      <td>Nike ZoomX Invincible Run Flyknit</td>\n",
       "      <td>Men</td>\n",
       "      <td>$180</td>\n",
       "      <td>https://www.nike.com/t/zoomx-invincible-run-fl...</td>\n",
       "    </tr>\n",
       "  </tbody>\n",
       "</table>\n",
       "</div>"
      ],
      "text/plain": [
       "                                Item Gender Price  \\\n",
       "0        Nike Blazer Mid '77 Vintage    Men  $100   \n",
       "1                    Nike Air Max 90    Men  $120   \n",
       "2                    Nike Air Max 97    Men  $170   \n",
       "3          Nike Air Vapormax 2021 FK    Men  $200   \n",
       "4  Nike ZoomX Invincible Run Flyknit    Men  $180   \n",
       "\n",
       "                                                 URL  \n",
       "0  https://www.nike.com/t/blazer-mid-77-vintage-m...  \n",
       "1  https://www.nike.com/t/air-max-90-mens-shoes-6...  \n",
       "2  https://www.nike.com/t/air-max-97-mens-shoe-SD...  \n",
       "3  https://www.nike.com/t/air-vapormax-2021-fk-me...  \n",
       "4  https://www.nike.com/t/zoomx-invincible-run-fl...  "
      ]
     },
     "execution_count": 26,
     "metadata": {},
     "output_type": "execute_result"
    }
   ],
   "source": [
    "# Turn the data scraped into a DataFrame\n",
    "initial_df=pd.DataFrame({\"Item\":items,\"Gender\":genders,\"Price\":prices,\"URL\":links})\n",
    "\n",
    "# Print the 5 first rows of the DataFrame\n",
    "initial_df.head()"
   ]
  },
  {
   "cell_type": "code",
   "execution_count": 27,
   "id": "0a3c1bdd",
   "metadata": {},
   "outputs": [
    {
     "name": "stdout",
     "output_type": "stream",
     "text": [
      "<class 'pandas.core.frame.DataFrame'>\n",
      "RangeIndex: 2153 entries, 0 to 2152\n",
      "Data columns (total 4 columns):\n",
      " #   Column  Non-Null Count  Dtype \n",
      "---  ------  --------------  ----- \n",
      " 0   Item    2153 non-null   object\n",
      " 1   Gender  2153 non-null   object\n",
      " 2   Price   2153 non-null   object\n",
      " 3   URL     2153 non-null   object\n",
      "dtypes: object(4)\n",
      "memory usage: 67.4+ KB\n"
     ]
    }
   ],
   "source": [
    "# Inspect the columns data type\n",
    "initial_df.info()"
   ]
  },
  {
   "cell_type": "code",
   "execution_count": 28,
   "id": "e08ae051",
   "metadata": {},
   "outputs": [],
   "source": [
    "# Select all the rows except the ones without price\n",
    "updated_df=initial_df.loc[initial_df[\"Price\"]!=\"N/A\"]\n",
    "\n",
    "# Deactivate the warning for chained assignment\n",
    "pd.options.mode.chained_assignment = None \n",
    "\n",
    "# Parse through the item_count and extract the digit part of the current price\n",
    "updated_df[\"Price\"]=[re.split(r\"\\$+\", i)[1] for i in updated_df[\"Price\"]]\n",
    "\n",
    "# Convert the available_items to decimal\n",
    "updated_df[\"Price\"]=updated_df[\"Price\"].astype(float)"
   ]
  },
  {
   "cell_type": "code",
   "execution_count": 29,
   "id": "35508636",
   "metadata": {
    "scrolled": true
   },
   "outputs": [
    {
     "name": "stdout",
     "output_type": "stream",
     "text": [
      "<class 'pandas.core.frame.DataFrame'>\n",
      "Int64Index: 2149 entries, 0 to 2152\n",
      "Data columns (total 4 columns):\n",
      " #   Column  Non-Null Count  Dtype  \n",
      "---  ------  --------------  -----  \n",
      " 0   Item    2149 non-null   object \n",
      " 1   Gender  2149 non-null   object \n",
      " 2   Price   2149 non-null   float64\n",
      " 3   URL     2149 non-null   object \n",
      "dtypes: float64(1), object(3)\n",
      "memory usage: 83.9+ KB\n"
     ]
    }
   ],
   "source": [
    "# Inspect the columns data type of the updated_df\n",
    "updated_df.info()"
   ]
  },
  {
   "cell_type": "code",
   "execution_count": 30,
   "id": "0c51e426",
   "metadata": {},
   "outputs": [
    {
     "data": {
      "text/html": [
       "<div>\n",
       "<style scoped>\n",
       "    .dataframe tbody tr th:only-of-type {\n",
       "        vertical-align: middle;\n",
       "    }\n",
       "\n",
       "    .dataframe tbody tr th {\n",
       "        vertical-align: top;\n",
       "    }\n",
       "\n",
       "    .dataframe thead th {\n",
       "        text-align: right;\n",
       "    }\n",
       "</style>\n",
       "<table border=\"1\" class=\"dataframe\">\n",
       "  <thead>\n",
       "    <tr style=\"text-align: right;\">\n",
       "      <th></th>\n",
       "      <th>Item</th>\n",
       "      <th>Gender</th>\n",
       "      <th>Price</th>\n",
       "      <th>URL</th>\n",
       "    </tr>\n",
       "  </thead>\n",
       "  <tbody>\n",
       "    <tr>\n",
       "      <th>0</th>\n",
       "      <td>Nike Blazer Mid '77 Vintage</td>\n",
       "      <td>Men</td>\n",
       "      <td>100.0</td>\n",
       "      <td>https://www.nike.com/t/blazer-mid-77-vintage-m...</td>\n",
       "    </tr>\n",
       "    <tr>\n",
       "      <th>1</th>\n",
       "      <td>Nike Air Max 90</td>\n",
       "      <td>Men</td>\n",
       "      <td>120.0</td>\n",
       "      <td>https://www.nike.com/t/air-max-90-mens-shoes-6...</td>\n",
       "    </tr>\n",
       "    <tr>\n",
       "      <th>2</th>\n",
       "      <td>Nike Air Max 97</td>\n",
       "      <td>Men</td>\n",
       "      <td>170.0</td>\n",
       "      <td>https://www.nike.com/t/air-max-97-mens-shoe-SD...</td>\n",
       "    </tr>\n",
       "    <tr>\n",
       "      <th>3</th>\n",
       "      <td>Nike Air Vapormax 2021 FK</td>\n",
       "      <td>Men</td>\n",
       "      <td>200.0</td>\n",
       "      <td>https://www.nike.com/t/air-vapormax-2021-fk-me...</td>\n",
       "    </tr>\n",
       "    <tr>\n",
       "      <th>4</th>\n",
       "      <td>Nike ZoomX Invincible Run Flyknit</td>\n",
       "      <td>Men</td>\n",
       "      <td>180.0</td>\n",
       "      <td>https://www.nike.com/t/zoomx-invincible-run-fl...</td>\n",
       "    </tr>\n",
       "  </tbody>\n",
       "</table>\n",
       "</div>"
      ],
      "text/plain": [
       "                                Item Gender  Price  \\\n",
       "0        Nike Blazer Mid '77 Vintage    Men  100.0   \n",
       "1                    Nike Air Max 90    Men  120.0   \n",
       "2                    Nike Air Max 97    Men  170.0   \n",
       "3          Nike Air Vapormax 2021 FK    Men  200.0   \n",
       "4  Nike ZoomX Invincible Run Flyknit    Men  180.0   \n",
       "\n",
       "                                                 URL  \n",
       "0  https://www.nike.com/t/blazer-mid-77-vintage-m...  \n",
       "1  https://www.nike.com/t/air-max-90-mens-shoes-6...  \n",
       "2  https://www.nike.com/t/air-max-97-mens-shoe-SD...  \n",
       "3  https://www.nike.com/t/air-vapormax-2021-fk-me...  \n",
       "4  https://www.nike.com/t/zoomx-invincible-run-fl...  "
      ]
     },
     "execution_count": 30,
     "metadata": {},
     "output_type": "execute_result"
    }
   ],
   "source": [
    "updated_df.head()"
   ]
  },
  {
   "cell_type": "code",
   "execution_count": 31,
   "id": "73186c7d",
   "metadata": {},
   "outputs": [],
   "source": [
    "# Export the DataFrame in .csv file\n",
    "updated_df.to_csv(\"Output/nike.csv\")"
   ]
  },
  {
   "cell_type": "code",
   "execution_count": 32,
   "id": "98e0874f",
   "metadata": {},
   "outputs": [
    {
     "data": {
      "text/html": [
       "<div>\n",
       "<style scoped>\n",
       "    .dataframe tbody tr th:only-of-type {\n",
       "        vertical-align: middle;\n",
       "    }\n",
       "\n",
       "    .dataframe tbody tr th {\n",
       "        vertical-align: top;\n",
       "    }\n",
       "\n",
       "    .dataframe thead th {\n",
       "        text-align: right;\n",
       "    }\n",
       "</style>\n",
       "<table border=\"1\" class=\"dataframe\">\n",
       "  <thead>\n",
       "    <tr style=\"text-align: right;\">\n",
       "      <th></th>\n",
       "      <th>Unnamed: 0</th>\n",
       "      <th>ProductID</th>\n",
       "      <th>Price</th>\n",
       "      <th>Name</th>\n",
       "      <th>Brand</th>\n",
       "      <th>Gender</th>\n",
       "      <th>Image</th>\n",
       "      <th>URL</th>\n",
       "    </tr>\n",
       "  </thead>\n",
       "  <tbody>\n",
       "    <tr>\n",
       "      <th>0</th>\n",
       "      <td>0</td>\n",
       "      <td>1855904262</td>\n",
       "      <td>185.800</td>\n",
       "      <td>Cougar Women's Vienna-S In Black</td>\n",
       "      <td>Cougar</td>\n",
       "      <td>Women</td>\n",
       "      <td>https://img.shop.com/Image/260000/267800/26787...</td>\n",
       "      <td>https://www.shop.com/cougar-womens-vienna-s-in...</td>\n",
       "    </tr>\n",
       "    <tr>\n",
       "      <th>1</th>\n",
       "      <td>1</td>\n",
       "      <td>1860265708</td>\n",
       "      <td>119.095</td>\n",
       "      <td>Sam Edelman Women's Pippy Gold M</td>\n",
       "      <td>Sam Edelman</td>\n",
       "      <td>Women</td>\n",
       "      <td>https://img.shop.com/Image/260000/267800/26787...</td>\n",
       "      <td>https://www.shop.com/sam-edelman-womens-pippy-...</td>\n",
       "    </tr>\n",
       "    <tr>\n",
       "      <th>2</th>\n",
       "      <td>2</td>\n",
       "      <td>1820031831</td>\n",
       "      <td>128.390</td>\n",
       "      <td>Tretorn Women's Rawlins 10 in Black</td>\n",
       "      <td>Tretorn</td>\n",
       "      <td>Women</td>\n",
       "      <td>https://img.shop.com/Image/260000/267800/26787...</td>\n",
       "      <td>https://www.shop.com/tretorn-womens-rawlins-10...</td>\n",
       "    </tr>\n",
       "    <tr>\n",
       "      <th>3</th>\n",
       "      <td>3</td>\n",
       "      <td>1869256932</td>\n",
       "      <td>54.480</td>\n",
       "      <td>Steve Madden Womens Tracey Faux Leather Lace-u...</td>\n",
       "      <td>Steve Madden</td>\n",
       "      <td>Women</td>\n",
       "      <td>https://img.shop.com/Image/270000/273200/27320...</td>\n",
       "      <td>https://www.shop.com/steve-madden-womens-trace...</td>\n",
       "    </tr>\n",
       "    <tr>\n",
       "      <th>4</th>\n",
       "      <td>4</td>\n",
       "      <td>1881421772</td>\n",
       "      <td>78.820</td>\n",
       "      <td>Andrea Conti Women's Dani in White</td>\n",
       "      <td>NaN</td>\n",
       "      <td>Women</td>\n",
       "      <td>https://img.shop.com/Image/260000/267800/26787...</td>\n",
       "      <td>https://www.shop.com/andrea-conti-womens-dani-...</td>\n",
       "    </tr>\n",
       "  </tbody>\n",
       "</table>\n",
       "</div>"
      ],
      "text/plain": [
       "   Unnamed: 0   ProductID    Price  \\\n",
       "0           0  1855904262  185.800   \n",
       "1           1  1860265708  119.095   \n",
       "2           2  1820031831  128.390   \n",
       "3           3  1869256932   54.480   \n",
       "4           4  1881421772   78.820   \n",
       "\n",
       "                                                Name         Brand Gender  \\\n",
       "0                   Cougar Women's Vienna-S In Black        Cougar  Women   \n",
       "1                   Sam Edelman Women's Pippy Gold M   Sam Edelman  Women   \n",
       "2                Tretorn Women's Rawlins 10 in Black       Tretorn  Women   \n",
       "3  Steve Madden Womens Tracey Faux Leather Lace-u...  Steve Madden  Women   \n",
       "4                 Andrea Conti Women's Dani in White           NaN  Women   \n",
       "\n",
       "                                               Image  \\\n",
       "0  https://img.shop.com/Image/260000/267800/26787...   \n",
       "1  https://img.shop.com/Image/260000/267800/26787...   \n",
       "2  https://img.shop.com/Image/260000/267800/26787...   \n",
       "3  https://img.shop.com/Image/270000/273200/27320...   \n",
       "4  https://img.shop.com/Image/260000/267800/26787...   \n",
       "\n",
       "                                                 URL  \n",
       "0  https://www.shop.com/cougar-womens-vienna-s-in...  \n",
       "1  https://www.shop.com/sam-edelman-womens-pippy-...  \n",
       "2  https://www.shop.com/tretorn-womens-rawlins-10...  \n",
       "3  https://www.shop.com/steve-madden-womens-trace...  \n",
       "4  https://www.shop.com/andrea-conti-womens-dani-...  "
      ]
     },
     "execution_count": 32,
     "metadata": {},
     "output_type": "execute_result"
    }
   ],
   "source": [
    "# Import the ShopComAthletic.csv\n",
    "path = \"Output/ShopComAthletic.csv\"\n",
    "shopcom_df = pd.read_csv(path)\n",
    "shopcom_df.head()"
   ]
  },
  {
   "cell_type": "code",
   "execution_count": 53,
   "id": "615b90d4",
   "metadata": {
    "scrolled": false
   },
   "outputs": [
    {
     "data": {
      "text/html": [
       "<div>\n",
       "<style scoped>\n",
       "    .dataframe tbody tr th:only-of-type {\n",
       "        vertical-align: middle;\n",
       "    }\n",
       "\n",
       "    .dataframe tbody tr th {\n",
       "        vertical-align: top;\n",
       "    }\n",
       "\n",
       "    .dataframe thead th {\n",
       "        text-align: right;\n",
       "    }\n",
       "</style>\n",
       "<table border=\"1\" class=\"dataframe\">\n",
       "  <thead>\n",
       "    <tr style=\"text-align: right;\">\n",
       "      <th></th>\n",
       "      <th>Item</th>\n",
       "      <th>Gender</th>\n",
       "      <th>Price</th>\n",
       "      <th>URL</th>\n",
       "    </tr>\n",
       "  </thead>\n",
       "  <tbody>\n",
       "    <tr>\n",
       "      <th>0</th>\n",
       "      <td>Cougar Women's Vienna-S In Black</td>\n",
       "      <td>Women</td>\n",
       "      <td>185.800</td>\n",
       "      <td>https://www.shop.com/cougar-womens-vienna-s-in...</td>\n",
       "    </tr>\n",
       "    <tr>\n",
       "      <th>1</th>\n",
       "      <td>Sam Edelman Women's Pippy Gold M</td>\n",
       "      <td>Women</td>\n",
       "      <td>119.095</td>\n",
       "      <td>https://www.shop.com/sam-edelman-womens-pippy-...</td>\n",
       "    </tr>\n",
       "    <tr>\n",
       "      <th>2</th>\n",
       "      <td>Tretorn Women's Rawlins 10 in Black</td>\n",
       "      <td>Women</td>\n",
       "      <td>128.390</td>\n",
       "      <td>https://www.shop.com/tretorn-womens-rawlins-10...</td>\n",
       "    </tr>\n",
       "    <tr>\n",
       "      <th>3</th>\n",
       "      <td>Steve Madden Womens Tracey Faux Leather Lace-u...</td>\n",
       "      <td>Women</td>\n",
       "      <td>54.480</td>\n",
       "      <td>https://www.shop.com/steve-madden-womens-trace...</td>\n",
       "    </tr>\n",
       "    <tr>\n",
       "      <th>4</th>\n",
       "      <td>Andrea Conti Women's Dani in White</td>\n",
       "      <td>Women</td>\n",
       "      <td>78.820</td>\n",
       "      <td>https://www.shop.com/andrea-conti-womens-dani-...</td>\n",
       "    </tr>\n",
       "  </tbody>\n",
       "</table>\n",
       "</div>"
      ],
      "text/plain": [
       "                                                Item Gender    Price  \\\n",
       "0                   Cougar Women's Vienna-S In Black  Women  185.800   \n",
       "1                   Sam Edelman Women's Pippy Gold M  Women  119.095   \n",
       "2                Tretorn Women's Rawlins 10 in Black  Women  128.390   \n",
       "3  Steve Madden Womens Tracey Faux Leather Lace-u...  Women   54.480   \n",
       "4                 Andrea Conti Women's Dani in White  Women   78.820   \n",
       "\n",
       "                                                 URL  \n",
       "0  https://www.shop.com/cougar-womens-vienna-s-in...  \n",
       "1  https://www.shop.com/sam-edelman-womens-pippy-...  \n",
       "2  https://www.shop.com/tretorn-womens-rawlins-10...  \n",
       "3  https://www.shop.com/steve-madden-womens-trace...  \n",
       "4  https://www.shop.com/andrea-conti-womens-dani-...  "
      ]
     },
     "execution_count": 53,
     "metadata": {},
     "output_type": "execute_result"
    }
   ],
   "source": [
    "# Create a filtered dataframe from specific columns\n",
    "shopcom_cols = [\"Name\", \"Gender\", \"Price\",\"URL\"]\n",
    "shopcom_transformed_df= shopcom_df[shopcom_cols].copy()\n",
    "shopcom_transformed_df=shopcom_transformed_df.rename(columns={\"Name\": \"Item\"})\n",
    "\n",
    "# Display the first 5 lines of the DataFrame\n",
    "shopcom_transformed_df.head()"
   ]
  },
  {
   "cell_type": "markdown",
   "id": "52b2c668",
   "metadata": {},
   "source": [
    "# Loading to a Database"
   ]
  },
  {
   "cell_type": "code",
   "execution_count": 54,
   "id": "beff732b",
   "metadata": {},
   "outputs": [],
   "source": [
    "# Create database connection\n",
    "connection_string = f\"{USERNAME}:{PASSWORD}@localhost:5432/FootwearFinder_db\"\n",
    "engine = create_engine(f'postgresql://{connection_string}')"
   ]
  },
  {
   "cell_type": "code",
   "execution_count": 55,
   "id": "ed56b35f",
   "metadata": {},
   "outputs": [
    {
     "name": "stderr",
     "output_type": "stream",
     "text": [
      "<ipython-input-55-2d97e9123e98>:2: SADeprecationWarning: The Engine.table_names() method is deprecated and will be removed in a future release.  Please refer to Inspector.get_table_names(). (deprecated since: 1.4)\n",
      "  engine.table_names()\n"
     ]
    },
    {
     "data": {
      "text/plain": [
       "['shopcom']"
      ]
     },
     "execution_count": 55,
     "metadata": {},
     "output_type": "execute_result"
    }
   ],
   "source": [
    "# Confirm tables\n",
    "engine.table_names()"
   ]
  },
  {
   "cell_type": "code",
   "execution_count": 56,
   "id": "8a4434e1",
   "metadata": {},
   "outputs": [
    {
     "ename": "ProgrammingError",
     "evalue": "(psycopg2.errors.UndefinedColumn) column \"Item\" of relation \"shopcom\" does not exist\nLINE 1: INSERT INTO shopcom (\"Item\", \"Gender\", \"Price\", \"URL\") VALUE...\n                             ^\n\n[SQL: INSERT INTO shopcom (\"Item\", \"Gender\", \"Price\", \"URL\") VALUES (%(Item)s, %(Gender)s, %(Price)s, %(URL)s)]\n[parameters: ({'Item': \"Nike Blazer Mid '77 Vintage\", 'Gender': 'Men', 'Price': 100.0, 'URL': 'https://www.nike.com/t/blazer-mid-77-vintage-mens-shoes-nw30B2/BQ6806-100'}, {'Item': 'Nike Air Max 90', 'Gender': 'Men', 'Price': 120.0, 'URL': 'https://www.nike.com/t/air-max-90-mens-shoes-6n3vKB/CN8490-100'}, {'Item': 'Nike Air Max 97', 'Gender': 'Men', 'Price': 170.0, 'URL': 'https://www.nike.com/t/air-max-97-mens-shoe-SD3ZmW/921826-001'}, {'Item': 'Nike Air Vapormax 2021 FK', 'Gender': 'Men', 'Price': 200.0, 'URL': 'https://www.nike.com/t/air-vapormax-2021-fk-mens-shoes-NpTfFz/DC9394-400'}, {'Item': 'Nike ZoomX Invincible Run Flyknit', 'Gender': 'Men', 'Price': 180.0, 'URL': 'https://www.nike.com/t/zoomx-invincible-run-flyknit-mens-road-running-shoes-sP2zk7/CT2228-103'}, {'Item': 'Nike React Infinity Run Flyknit 2', 'Gender': 'Men', 'Price': 160.0, 'URL': 'https://www.nike.com/t/react-infinity-run-flyknit-2-mens-road-running-shoes-DttDF2/CT2357-101'}, {'Item': 'Zoom Freak 3', 'Gender': 'Men', 'Price': 120.0, 'URL': 'https://www.nike.com/t/zoom-freak-3-basketball-shoes-QXBvM0/DA0694-101'}, {'Item': 'Kyrie 7', 'Gender': 'Men', 'Price': 130.0, 'URL': 'https://www.nike.com/t/kyrie-7-basketball-shoes-nNMZ3b/DC9122-001'}  ... displaying 10 of 2149 total bound parameter sets ...  {'Item': 'Nike Air Max 90 LTR', 'Gender': 'Girls', 'Price': 70.97, 'URL': 'https://www.nike.com/t/air-max-90-ltr-baby-toddler-shoes-fsG78M/DM7596-001'}, {'Item': 'Air Jordan 4 Retro', 'Gender': 'Girls', 'Price': 150.0, 'URL': 'https://www.nike.com/t/air-jordan-4-retro-big-kids-shoe-fmLBVS/DH0572-264'})]\n(Background on this error at: http://sqlalche.me/e/14/f405)",
     "output_type": "error",
     "traceback": [
      "\u001b[1;31m---------------------------------------------------------------------------\u001b[0m",
      "\u001b[1;31mUndefinedColumn\u001b[0m                           Traceback (most recent call last)",
      "\u001b[1;32m~\\anaconda3\\lib\\site-packages\\sqlalchemy\\engine\\base.py\u001b[0m in \u001b[0;36m_execute_context\u001b[1;34m(self, dialect, constructor, statement, parameters, execution_options, *args, **kw)\u001b[0m\n\u001b[0;32m   1684\u001b[0m                 \u001b[1;32mif\u001b[0m \u001b[1;32mnot\u001b[0m \u001b[0mevt_handled\u001b[0m\u001b[1;33m:\u001b[0m\u001b[1;33m\u001b[0m\u001b[1;33m\u001b[0m\u001b[0m\n\u001b[1;32m-> 1685\u001b[1;33m                     self.dialect.do_executemany(\n\u001b[0m\u001b[0;32m   1686\u001b[0m                         \u001b[0mcursor\u001b[0m\u001b[1;33m,\u001b[0m \u001b[0mstatement\u001b[0m\u001b[1;33m,\u001b[0m \u001b[0mparameters\u001b[0m\u001b[1;33m,\u001b[0m \u001b[0mcontext\u001b[0m\u001b[1;33m\u001b[0m\u001b[1;33m\u001b[0m\u001b[0m\n",
      "\u001b[1;32m~\\anaconda3\\lib\\site-packages\\sqlalchemy\\dialects\\postgresql\\psycopg2.py\u001b[0m in \u001b[0;36mdo_executemany\u001b[1;34m(self, cursor, statement, parameters, context)\u001b[0m\n\u001b[0;32m    902\u001b[0m             \u001b[0mxtras\u001b[0m \u001b[1;33m=\u001b[0m \u001b[0mself\u001b[0m\u001b[1;33m.\u001b[0m\u001b[0m_psycopg2_extras\u001b[0m\u001b[1;33m(\u001b[0m\u001b[1;33m)\u001b[0m\u001b[1;33m\u001b[0m\u001b[1;33m\u001b[0m\u001b[0m\n\u001b[1;32m--> 903\u001b[1;33m             context._psycopg2_fetched_rows = xtras.execute_values(\n\u001b[0m\u001b[0;32m    904\u001b[0m                 \u001b[0mcursor\u001b[0m\u001b[1;33m,\u001b[0m\u001b[1;33m\u001b[0m\u001b[1;33m\u001b[0m\u001b[0m\n",
      "\u001b[1;32m~\\anaconda3\\lib\\site-packages\\psycopg2\\extras.py\u001b[0m in \u001b[0;36mexecute_values\u001b[1;34m(cur, sql, argslist, template, page_size, fetch)\u001b[0m\n\u001b[0;32m   1269\u001b[0m         \u001b[0mparts\u001b[0m\u001b[1;33m[\u001b[0m\u001b[1;33m-\u001b[0m\u001b[1;36m1\u001b[0m\u001b[1;33m:\u001b[0m\u001b[1;33m]\u001b[0m \u001b[1;33m=\u001b[0m \u001b[0mpost\u001b[0m\u001b[1;33m\u001b[0m\u001b[1;33m\u001b[0m\u001b[0m\n\u001b[1;32m-> 1270\u001b[1;33m         \u001b[0mcur\u001b[0m\u001b[1;33m.\u001b[0m\u001b[0mexecute\u001b[0m\u001b[1;33m(\u001b[0m\u001b[1;34mb''\u001b[0m\u001b[1;33m.\u001b[0m\u001b[0mjoin\u001b[0m\u001b[1;33m(\u001b[0m\u001b[0mparts\u001b[0m\u001b[1;33m)\u001b[0m\u001b[1;33m)\u001b[0m\u001b[1;33m\u001b[0m\u001b[1;33m\u001b[0m\u001b[0m\n\u001b[0m\u001b[0;32m   1271\u001b[0m         \u001b[1;32mif\u001b[0m \u001b[0mfetch\u001b[0m\u001b[1;33m:\u001b[0m\u001b[1;33m\u001b[0m\u001b[1;33m\u001b[0m\u001b[0m\n",
      "\u001b[1;31mUndefinedColumn\u001b[0m: column \"Item\" of relation \"shopcom\" does not exist\nLINE 1: INSERT INTO shopcom (\"Item\", \"Gender\", \"Price\", \"URL\") VALUE...\n                             ^\n",
      "\nThe above exception was the direct cause of the following exception:\n",
      "\u001b[1;31mProgrammingError\u001b[0m                          Traceback (most recent call last)",
      "\u001b[1;32m<ipython-input-56-9d98477b7f12>\u001b[0m in \u001b[0;36m<module>\u001b[1;34m\u001b[0m\n\u001b[0;32m      1\u001b[0m \u001b[1;31m# Load updated_df to database\u001b[0m\u001b[1;33m\u001b[0m\u001b[1;33m\u001b[0m\u001b[1;33m\u001b[0m\u001b[0m\n\u001b[1;32m----> 2\u001b[1;33m \u001b[0mupdated_df\u001b[0m\u001b[1;33m.\u001b[0m\u001b[0mto_sql\u001b[0m\u001b[1;33m(\u001b[0m\u001b[0mname\u001b[0m\u001b[1;33m=\u001b[0m\u001b[1;34m'shopcom'\u001b[0m\u001b[1;33m,\u001b[0m \u001b[0mcon\u001b[0m\u001b[1;33m=\u001b[0m\u001b[0mengine\u001b[0m\u001b[1;33m,\u001b[0m \u001b[0mif_exists\u001b[0m\u001b[1;33m=\u001b[0m\u001b[1;34m'append'\u001b[0m\u001b[1;33m,\u001b[0m \u001b[0mindex\u001b[0m\u001b[1;33m=\u001b[0m\u001b[1;32mFalse\u001b[0m\u001b[1;33m)\u001b[0m\u001b[1;33m\u001b[0m\u001b[1;33m\u001b[0m\u001b[0m\n\u001b[0m",
      "\u001b[1;32m~\\anaconda3\\lib\\site-packages\\pandas\\core\\generic.py\u001b[0m in \u001b[0;36mto_sql\u001b[1;34m(self, name, con, schema, if_exists, index, index_label, chunksize, dtype, method)\u001b[0m\n\u001b[0;32m   2777\u001b[0m         \u001b[1;32mfrom\u001b[0m \u001b[0mpandas\u001b[0m\u001b[1;33m.\u001b[0m\u001b[0mio\u001b[0m \u001b[1;32mimport\u001b[0m \u001b[0msql\u001b[0m\u001b[1;33m\u001b[0m\u001b[1;33m\u001b[0m\u001b[0m\n\u001b[0;32m   2778\u001b[0m \u001b[1;33m\u001b[0m\u001b[0m\n\u001b[1;32m-> 2779\u001b[1;33m         sql.to_sql(\n\u001b[0m\u001b[0;32m   2780\u001b[0m             \u001b[0mself\u001b[0m\u001b[1;33m,\u001b[0m\u001b[1;33m\u001b[0m\u001b[1;33m\u001b[0m\u001b[0m\n\u001b[0;32m   2781\u001b[0m             \u001b[0mname\u001b[0m\u001b[1;33m,\u001b[0m\u001b[1;33m\u001b[0m\u001b[1;33m\u001b[0m\u001b[0m\n",
      "\u001b[1;32m~\\anaconda3\\lib\\site-packages\\pandas\\io\\sql.py\u001b[0m in \u001b[0;36mto_sql\u001b[1;34m(frame, name, con, schema, if_exists, index, index_label, chunksize, dtype, method)\u001b[0m\n\u001b[0;32m    599\u001b[0m         )\n\u001b[0;32m    600\u001b[0m \u001b[1;33m\u001b[0m\u001b[0m\n\u001b[1;32m--> 601\u001b[1;33m     pandas_sql.to_sql(\n\u001b[0m\u001b[0;32m    602\u001b[0m         \u001b[0mframe\u001b[0m\u001b[1;33m,\u001b[0m\u001b[1;33m\u001b[0m\u001b[1;33m\u001b[0m\u001b[0m\n\u001b[0;32m    603\u001b[0m         \u001b[0mname\u001b[0m\u001b[1;33m,\u001b[0m\u001b[1;33m\u001b[0m\u001b[1;33m\u001b[0m\u001b[0m\n",
      "\u001b[1;32m~\\anaconda3\\lib\\site-packages\\pandas\\io\\sql.py\u001b[0m in \u001b[0;36mto_sql\u001b[1;34m(self, frame, name, if_exists, index, index_label, schema, chunksize, dtype, method)\u001b[0m\n\u001b[0;32m   1417\u001b[0m                 \u001b[1;32mraise\u001b[0m \u001b[0mValueError\u001b[0m\u001b[1;33m(\u001b[0m\u001b[1;34m\"inf cannot be used with MySQL\"\u001b[0m\u001b[1;33m)\u001b[0m \u001b[1;32mfrom\u001b[0m \u001b[0merr\u001b[0m\u001b[1;33m\u001b[0m\u001b[1;33m\u001b[0m\u001b[0m\n\u001b[0;32m   1418\u001b[0m             \u001b[1;32melse\u001b[0m\u001b[1;33m:\u001b[0m\u001b[1;33m\u001b[0m\u001b[1;33m\u001b[0m\u001b[0m\n\u001b[1;32m-> 1419\u001b[1;33m                 \u001b[1;32mraise\u001b[0m \u001b[0merr\u001b[0m\u001b[1;33m\u001b[0m\u001b[1;33m\u001b[0m\u001b[0m\n\u001b[0m\u001b[0;32m   1420\u001b[0m \u001b[1;33m\u001b[0m\u001b[0m\n\u001b[0;32m   1421\u001b[0m         \u001b[1;32mif\u001b[0m \u001b[1;32mnot\u001b[0m \u001b[0mname\u001b[0m\u001b[1;33m.\u001b[0m\u001b[0misdigit\u001b[0m\u001b[1;33m(\u001b[0m\u001b[1;33m)\u001b[0m \u001b[1;32mand\u001b[0m \u001b[1;32mnot\u001b[0m \u001b[0mname\u001b[0m\u001b[1;33m.\u001b[0m\u001b[0mislower\u001b[0m\u001b[1;33m(\u001b[0m\u001b[1;33m)\u001b[0m\u001b[1;33m:\u001b[0m\u001b[1;33m\u001b[0m\u001b[1;33m\u001b[0m\u001b[0m\n",
      "\u001b[1;32m~\\anaconda3\\lib\\site-packages\\pandas\\io\\sql.py\u001b[0m in \u001b[0;36mto_sql\u001b[1;34m(self, frame, name, if_exists, index, index_label, schema, chunksize, dtype, method)\u001b[0m\n\u001b[0;32m   1409\u001b[0m \u001b[1;33m\u001b[0m\u001b[0m\n\u001b[0;32m   1410\u001b[0m         \u001b[1;32mtry\u001b[0m\u001b[1;33m:\u001b[0m\u001b[1;33m\u001b[0m\u001b[1;33m\u001b[0m\u001b[0m\n\u001b[1;32m-> 1411\u001b[1;33m             \u001b[0mtable\u001b[0m\u001b[1;33m.\u001b[0m\u001b[0minsert\u001b[0m\u001b[1;33m(\u001b[0m\u001b[0mchunksize\u001b[0m\u001b[1;33m,\u001b[0m \u001b[0mmethod\u001b[0m\u001b[1;33m=\u001b[0m\u001b[0mmethod\u001b[0m\u001b[1;33m)\u001b[0m\u001b[1;33m\u001b[0m\u001b[1;33m\u001b[0m\u001b[0m\n\u001b[0m\u001b[0;32m   1412\u001b[0m         \u001b[1;32mexcept\u001b[0m \u001b[0mexc\u001b[0m\u001b[1;33m.\u001b[0m\u001b[0mSQLAlchemyError\u001b[0m \u001b[1;32mas\u001b[0m \u001b[0merr\u001b[0m\u001b[1;33m:\u001b[0m\u001b[1;33m\u001b[0m\u001b[1;33m\u001b[0m\u001b[0m\n\u001b[0;32m   1413\u001b[0m             \u001b[1;31m# GH34431\u001b[0m\u001b[1;33m\u001b[0m\u001b[1;33m\u001b[0m\u001b[1;33m\u001b[0m\u001b[0m\n",
      "\u001b[1;32m~\\anaconda3\\lib\\site-packages\\pandas\\io\\sql.py\u001b[0m in \u001b[0;36minsert\u001b[1;34m(self, chunksize, method)\u001b[0m\n\u001b[0;32m    843\u001b[0m \u001b[1;33m\u001b[0m\u001b[0m\n\u001b[0;32m    844\u001b[0m                 \u001b[0mchunk_iter\u001b[0m \u001b[1;33m=\u001b[0m \u001b[0mzip\u001b[0m\u001b[1;33m(\u001b[0m\u001b[1;33m*\u001b[0m\u001b[1;33m[\u001b[0m\u001b[0marr\u001b[0m\u001b[1;33m[\u001b[0m\u001b[0mstart_i\u001b[0m\u001b[1;33m:\u001b[0m\u001b[0mend_i\u001b[0m\u001b[1;33m]\u001b[0m \u001b[1;32mfor\u001b[0m \u001b[0marr\u001b[0m \u001b[1;32min\u001b[0m \u001b[0mdata_list\u001b[0m\u001b[1;33m]\u001b[0m\u001b[1;33m)\u001b[0m\u001b[1;33m\u001b[0m\u001b[1;33m\u001b[0m\u001b[0m\n\u001b[1;32m--> 845\u001b[1;33m                 \u001b[0mexec_insert\u001b[0m\u001b[1;33m(\u001b[0m\u001b[0mconn\u001b[0m\u001b[1;33m,\u001b[0m \u001b[0mkeys\u001b[0m\u001b[1;33m,\u001b[0m \u001b[0mchunk_iter\u001b[0m\u001b[1;33m)\u001b[0m\u001b[1;33m\u001b[0m\u001b[1;33m\u001b[0m\u001b[0m\n\u001b[0m\u001b[0;32m    846\u001b[0m \u001b[1;33m\u001b[0m\u001b[0m\n\u001b[0;32m    847\u001b[0m     def _query_iterator(\n",
      "\u001b[1;32m~\\anaconda3\\lib\\site-packages\\pandas\\io\\sql.py\u001b[0m in \u001b[0;36m_execute_insert\u001b[1;34m(self, conn, keys, data_iter)\u001b[0m\n\u001b[0;32m    760\u001b[0m         \"\"\"\n\u001b[0;32m    761\u001b[0m         \u001b[0mdata\u001b[0m \u001b[1;33m=\u001b[0m \u001b[1;33m[\u001b[0m\u001b[0mdict\u001b[0m\u001b[1;33m(\u001b[0m\u001b[0mzip\u001b[0m\u001b[1;33m(\u001b[0m\u001b[0mkeys\u001b[0m\u001b[1;33m,\u001b[0m \u001b[0mrow\u001b[0m\u001b[1;33m)\u001b[0m\u001b[1;33m)\u001b[0m \u001b[1;32mfor\u001b[0m \u001b[0mrow\u001b[0m \u001b[1;32min\u001b[0m \u001b[0mdata_iter\u001b[0m\u001b[1;33m]\u001b[0m\u001b[1;33m\u001b[0m\u001b[1;33m\u001b[0m\u001b[0m\n\u001b[1;32m--> 762\u001b[1;33m         \u001b[0mconn\u001b[0m\u001b[1;33m.\u001b[0m\u001b[0mexecute\u001b[0m\u001b[1;33m(\u001b[0m\u001b[0mself\u001b[0m\u001b[1;33m.\u001b[0m\u001b[0mtable\u001b[0m\u001b[1;33m.\u001b[0m\u001b[0minsert\u001b[0m\u001b[1;33m(\u001b[0m\u001b[1;33m)\u001b[0m\u001b[1;33m,\u001b[0m \u001b[0mdata\u001b[0m\u001b[1;33m)\u001b[0m\u001b[1;33m\u001b[0m\u001b[1;33m\u001b[0m\u001b[0m\n\u001b[0m\u001b[0;32m    763\u001b[0m \u001b[1;33m\u001b[0m\u001b[0m\n\u001b[0;32m    764\u001b[0m     \u001b[1;32mdef\u001b[0m \u001b[0m_execute_insert_multi\u001b[0m\u001b[1;33m(\u001b[0m\u001b[0mself\u001b[0m\u001b[1;33m,\u001b[0m \u001b[0mconn\u001b[0m\u001b[1;33m,\u001b[0m \u001b[0mkeys\u001b[0m\u001b[1;33m,\u001b[0m \u001b[0mdata_iter\u001b[0m\u001b[1;33m)\u001b[0m\u001b[1;33m:\u001b[0m\u001b[1;33m\u001b[0m\u001b[1;33m\u001b[0m\u001b[0m\n",
      "\u001b[1;32m~\\anaconda3\\lib\\site-packages\\sqlalchemy\\engine\\base.py\u001b[0m in \u001b[0;36mexecute\u001b[1;34m(self, statement, *multiparams, **params)\u001b[0m\n\u001b[0;32m   1198\u001b[0m             )\n\u001b[0;32m   1199\u001b[0m         \u001b[1;32melse\u001b[0m\u001b[1;33m:\u001b[0m\u001b[1;33m\u001b[0m\u001b[1;33m\u001b[0m\u001b[0m\n\u001b[1;32m-> 1200\u001b[1;33m             \u001b[1;32mreturn\u001b[0m \u001b[0mmeth\u001b[0m\u001b[1;33m(\u001b[0m\u001b[0mself\u001b[0m\u001b[1;33m,\u001b[0m \u001b[0mmultiparams\u001b[0m\u001b[1;33m,\u001b[0m \u001b[0mparams\u001b[0m\u001b[1;33m,\u001b[0m \u001b[0m_EMPTY_EXECUTION_OPTS\u001b[0m\u001b[1;33m)\u001b[0m\u001b[1;33m\u001b[0m\u001b[1;33m\u001b[0m\u001b[0m\n\u001b[0m\u001b[0;32m   1201\u001b[0m \u001b[1;33m\u001b[0m\u001b[0m\n\u001b[0;32m   1202\u001b[0m     \u001b[1;32mdef\u001b[0m \u001b[0m_execute_function\u001b[0m\u001b[1;33m(\u001b[0m\u001b[0mself\u001b[0m\u001b[1;33m,\u001b[0m \u001b[0mfunc\u001b[0m\u001b[1;33m,\u001b[0m \u001b[0mmultiparams\u001b[0m\u001b[1;33m,\u001b[0m \u001b[0mparams\u001b[0m\u001b[1;33m,\u001b[0m \u001b[0mexecution_options\u001b[0m\u001b[1;33m)\u001b[0m\u001b[1;33m:\u001b[0m\u001b[1;33m\u001b[0m\u001b[1;33m\u001b[0m\u001b[0m\n",
      "\u001b[1;32m~\\anaconda3\\lib\\site-packages\\sqlalchemy\\sql\\elements.py\u001b[0m in \u001b[0;36m_execute_on_connection\u001b[1;34m(self, connection, multiparams, params, execution_options, _force)\u001b[0m\n\u001b[0;32m    311\u001b[0m     ):\n\u001b[0;32m    312\u001b[0m         \u001b[1;32mif\u001b[0m \u001b[0m_force\u001b[0m \u001b[1;32mor\u001b[0m \u001b[0mself\u001b[0m\u001b[1;33m.\u001b[0m\u001b[0msupports_execution\u001b[0m\u001b[1;33m:\u001b[0m\u001b[1;33m\u001b[0m\u001b[1;33m\u001b[0m\u001b[0m\n\u001b[1;32m--> 313\u001b[1;33m             return connection._execute_clauseelement(\n\u001b[0m\u001b[0;32m    314\u001b[0m                 \u001b[0mself\u001b[0m\u001b[1;33m,\u001b[0m \u001b[0mmultiparams\u001b[0m\u001b[1;33m,\u001b[0m \u001b[0mparams\u001b[0m\u001b[1;33m,\u001b[0m \u001b[0mexecution_options\u001b[0m\u001b[1;33m\u001b[0m\u001b[1;33m\u001b[0m\u001b[0m\n\u001b[0;32m    315\u001b[0m             )\n",
      "\u001b[1;32m~\\anaconda3\\lib\\site-packages\\sqlalchemy\\engine\\base.py\u001b[0m in \u001b[0;36m_execute_clauseelement\u001b[1;34m(self, elem, multiparams, params, execution_options)\u001b[0m\n\u001b[0;32m   1387\u001b[0m             \u001b[0mlinting\u001b[0m\u001b[1;33m=\u001b[0m\u001b[0mself\u001b[0m\u001b[1;33m.\u001b[0m\u001b[0mdialect\u001b[0m\u001b[1;33m.\u001b[0m\u001b[0mcompiler_linting\u001b[0m \u001b[1;33m|\u001b[0m \u001b[0mcompiler\u001b[0m\u001b[1;33m.\u001b[0m\u001b[0mWARN_LINTING\u001b[0m\u001b[1;33m,\u001b[0m\u001b[1;33m\u001b[0m\u001b[1;33m\u001b[0m\u001b[0m\n\u001b[0;32m   1388\u001b[0m         )\n\u001b[1;32m-> 1389\u001b[1;33m         ret = self._execute_context(\n\u001b[0m\u001b[0;32m   1390\u001b[0m             \u001b[0mdialect\u001b[0m\u001b[1;33m,\u001b[0m\u001b[1;33m\u001b[0m\u001b[1;33m\u001b[0m\u001b[0m\n\u001b[0;32m   1391\u001b[0m             \u001b[0mdialect\u001b[0m\u001b[1;33m.\u001b[0m\u001b[0mexecution_ctx_cls\u001b[0m\u001b[1;33m.\u001b[0m\u001b[0m_init_compiled\u001b[0m\u001b[1;33m,\u001b[0m\u001b[1;33m\u001b[0m\u001b[1;33m\u001b[0m\u001b[0m\n",
      "\u001b[1;32m~\\anaconda3\\lib\\site-packages\\sqlalchemy\\engine\\base.py\u001b[0m in \u001b[0;36m_execute_context\u001b[1;34m(self, dialect, constructor, statement, parameters, execution_options, *args, **kw)\u001b[0m\n\u001b[0;32m   1746\u001b[0m \u001b[1;33m\u001b[0m\u001b[0m\n\u001b[0;32m   1747\u001b[0m         \u001b[1;32mexcept\u001b[0m \u001b[0mBaseException\u001b[0m \u001b[1;32mas\u001b[0m \u001b[0me\u001b[0m\u001b[1;33m:\u001b[0m\u001b[1;33m\u001b[0m\u001b[1;33m\u001b[0m\u001b[0m\n\u001b[1;32m-> 1748\u001b[1;33m             self._handle_dbapi_exception(\n\u001b[0m\u001b[0;32m   1749\u001b[0m                 \u001b[0me\u001b[0m\u001b[1;33m,\u001b[0m \u001b[0mstatement\u001b[0m\u001b[1;33m,\u001b[0m \u001b[0mparameters\u001b[0m\u001b[1;33m,\u001b[0m \u001b[0mcursor\u001b[0m\u001b[1;33m,\u001b[0m \u001b[0mcontext\u001b[0m\u001b[1;33m\u001b[0m\u001b[1;33m\u001b[0m\u001b[0m\n\u001b[0;32m   1750\u001b[0m             )\n",
      "\u001b[1;32m~\\anaconda3\\lib\\site-packages\\sqlalchemy\\engine\\base.py\u001b[0m in \u001b[0;36m_handle_dbapi_exception\u001b[1;34m(self, e, statement, parameters, cursor, context)\u001b[0m\n\u001b[0;32m   1927\u001b[0m                 \u001b[0mutil\u001b[0m\u001b[1;33m.\u001b[0m\u001b[0mraise_\u001b[0m\u001b[1;33m(\u001b[0m\u001b[0mnewraise\u001b[0m\u001b[1;33m,\u001b[0m \u001b[0mwith_traceback\u001b[0m\u001b[1;33m=\u001b[0m\u001b[0mexc_info\u001b[0m\u001b[1;33m[\u001b[0m\u001b[1;36m2\u001b[0m\u001b[1;33m]\u001b[0m\u001b[1;33m,\u001b[0m \u001b[0mfrom_\u001b[0m\u001b[1;33m=\u001b[0m\u001b[0me\u001b[0m\u001b[1;33m)\u001b[0m\u001b[1;33m\u001b[0m\u001b[1;33m\u001b[0m\u001b[0m\n\u001b[0;32m   1928\u001b[0m             \u001b[1;32melif\u001b[0m \u001b[0mshould_wrap\u001b[0m\u001b[1;33m:\u001b[0m\u001b[1;33m\u001b[0m\u001b[1;33m\u001b[0m\u001b[0m\n\u001b[1;32m-> 1929\u001b[1;33m                 util.raise_(\n\u001b[0m\u001b[0;32m   1930\u001b[0m                     \u001b[0msqlalchemy_exception\u001b[0m\u001b[1;33m,\u001b[0m \u001b[0mwith_traceback\u001b[0m\u001b[1;33m=\u001b[0m\u001b[0mexc_info\u001b[0m\u001b[1;33m[\u001b[0m\u001b[1;36m2\u001b[0m\u001b[1;33m]\u001b[0m\u001b[1;33m,\u001b[0m \u001b[0mfrom_\u001b[0m\u001b[1;33m=\u001b[0m\u001b[0me\u001b[0m\u001b[1;33m\u001b[0m\u001b[1;33m\u001b[0m\u001b[0m\n\u001b[0;32m   1931\u001b[0m                 )\n",
      "\u001b[1;32m~\\anaconda3\\lib\\site-packages\\sqlalchemy\\util\\compat.py\u001b[0m in \u001b[0;36mraise_\u001b[1;34m(***failed resolving arguments***)\u001b[0m\n\u001b[0;32m    209\u001b[0m \u001b[1;33m\u001b[0m\u001b[0m\n\u001b[0;32m    210\u001b[0m         \u001b[1;32mtry\u001b[0m\u001b[1;33m:\u001b[0m\u001b[1;33m\u001b[0m\u001b[1;33m\u001b[0m\u001b[0m\n\u001b[1;32m--> 211\u001b[1;33m             \u001b[1;32mraise\u001b[0m \u001b[0mexception\u001b[0m\u001b[1;33m\u001b[0m\u001b[1;33m\u001b[0m\u001b[0m\n\u001b[0m\u001b[0;32m    212\u001b[0m         \u001b[1;32mfinally\u001b[0m\u001b[1;33m:\u001b[0m\u001b[1;33m\u001b[0m\u001b[1;33m\u001b[0m\u001b[0m\n\u001b[0;32m    213\u001b[0m             \u001b[1;31m# credit to\u001b[0m\u001b[1;33m\u001b[0m\u001b[1;33m\u001b[0m\u001b[1;33m\u001b[0m\u001b[0m\n",
      "\u001b[1;32m~\\anaconda3\\lib\\site-packages\\sqlalchemy\\engine\\base.py\u001b[0m in \u001b[0;36m_execute_context\u001b[1;34m(self, dialect, constructor, statement, parameters, execution_options, *args, **kw)\u001b[0m\n\u001b[0;32m   1683\u001b[0m                             \u001b[1;32mbreak\u001b[0m\u001b[1;33m\u001b[0m\u001b[1;33m\u001b[0m\u001b[0m\n\u001b[0;32m   1684\u001b[0m                 \u001b[1;32mif\u001b[0m \u001b[1;32mnot\u001b[0m \u001b[0mevt_handled\u001b[0m\u001b[1;33m:\u001b[0m\u001b[1;33m\u001b[0m\u001b[1;33m\u001b[0m\u001b[0m\n\u001b[1;32m-> 1685\u001b[1;33m                     self.dialect.do_executemany(\n\u001b[0m\u001b[0;32m   1686\u001b[0m                         \u001b[0mcursor\u001b[0m\u001b[1;33m,\u001b[0m \u001b[0mstatement\u001b[0m\u001b[1;33m,\u001b[0m \u001b[0mparameters\u001b[0m\u001b[1;33m,\u001b[0m \u001b[0mcontext\u001b[0m\u001b[1;33m\u001b[0m\u001b[1;33m\u001b[0m\u001b[0m\n\u001b[0;32m   1687\u001b[0m                     )\n",
      "\u001b[1;32m~\\anaconda3\\lib\\site-packages\\sqlalchemy\\dialects\\postgresql\\psycopg2.py\u001b[0m in \u001b[0;36mdo_executemany\u001b[1;34m(self, cursor, statement, parameters, context)\u001b[0m\n\u001b[0;32m    901\u001b[0m                 \u001b[0mkwargs\u001b[0m \u001b[1;33m=\u001b[0m \u001b[1;33m{\u001b[0m\u001b[1;33m}\u001b[0m\u001b[1;33m\u001b[0m\u001b[1;33m\u001b[0m\u001b[0m\n\u001b[0;32m    902\u001b[0m             \u001b[0mxtras\u001b[0m \u001b[1;33m=\u001b[0m \u001b[0mself\u001b[0m\u001b[1;33m.\u001b[0m\u001b[0m_psycopg2_extras\u001b[0m\u001b[1;33m(\u001b[0m\u001b[1;33m)\u001b[0m\u001b[1;33m\u001b[0m\u001b[1;33m\u001b[0m\u001b[0m\n\u001b[1;32m--> 903\u001b[1;33m             context._psycopg2_fetched_rows = xtras.execute_values(\n\u001b[0m\u001b[0;32m    904\u001b[0m                 \u001b[0mcursor\u001b[0m\u001b[1;33m,\u001b[0m\u001b[1;33m\u001b[0m\u001b[1;33m\u001b[0m\u001b[0m\n\u001b[0;32m    905\u001b[0m                 \u001b[0mstatement\u001b[0m\u001b[1;33m,\u001b[0m\u001b[1;33m\u001b[0m\u001b[1;33m\u001b[0m\u001b[0m\n",
      "\u001b[1;32m~\\anaconda3\\lib\\site-packages\\psycopg2\\extras.py\u001b[0m in \u001b[0;36mexecute_values\u001b[1;34m(cur, sql, argslist, template, page_size, fetch)\u001b[0m\n\u001b[0;32m   1268\u001b[0m             \u001b[0mparts\u001b[0m\u001b[1;33m.\u001b[0m\u001b[0mappend\u001b[0m\u001b[1;33m(\u001b[0m\u001b[1;34mb','\u001b[0m\u001b[1;33m)\u001b[0m\u001b[1;33m\u001b[0m\u001b[1;33m\u001b[0m\u001b[0m\n\u001b[0;32m   1269\u001b[0m         \u001b[0mparts\u001b[0m\u001b[1;33m[\u001b[0m\u001b[1;33m-\u001b[0m\u001b[1;36m1\u001b[0m\u001b[1;33m:\u001b[0m\u001b[1;33m]\u001b[0m \u001b[1;33m=\u001b[0m \u001b[0mpost\u001b[0m\u001b[1;33m\u001b[0m\u001b[1;33m\u001b[0m\u001b[0m\n\u001b[1;32m-> 1270\u001b[1;33m         \u001b[0mcur\u001b[0m\u001b[1;33m.\u001b[0m\u001b[0mexecute\u001b[0m\u001b[1;33m(\u001b[0m\u001b[1;34mb''\u001b[0m\u001b[1;33m.\u001b[0m\u001b[0mjoin\u001b[0m\u001b[1;33m(\u001b[0m\u001b[0mparts\u001b[0m\u001b[1;33m)\u001b[0m\u001b[1;33m)\u001b[0m\u001b[1;33m\u001b[0m\u001b[1;33m\u001b[0m\u001b[0m\n\u001b[0m\u001b[0;32m   1271\u001b[0m         \u001b[1;32mif\u001b[0m \u001b[0mfetch\u001b[0m\u001b[1;33m:\u001b[0m\u001b[1;33m\u001b[0m\u001b[1;33m\u001b[0m\u001b[0m\n\u001b[0;32m   1272\u001b[0m             \u001b[0mresult\u001b[0m\u001b[1;33m.\u001b[0m\u001b[0mextend\u001b[0m\u001b[1;33m(\u001b[0m\u001b[0mcur\u001b[0m\u001b[1;33m.\u001b[0m\u001b[0mfetchall\u001b[0m\u001b[1;33m(\u001b[0m\u001b[1;33m)\u001b[0m\u001b[1;33m)\u001b[0m\u001b[1;33m\u001b[0m\u001b[1;33m\u001b[0m\u001b[0m\n",
      "\u001b[1;31mProgrammingError\u001b[0m: (psycopg2.errors.UndefinedColumn) column \"Item\" of relation \"shopcom\" does not exist\nLINE 1: INSERT INTO shopcom (\"Item\", \"Gender\", \"Price\", \"URL\") VALUE...\n                             ^\n\n[SQL: INSERT INTO shopcom (\"Item\", \"Gender\", \"Price\", \"URL\") VALUES (%(Item)s, %(Gender)s, %(Price)s, %(URL)s)]\n[parameters: ({'Item': \"Nike Blazer Mid '77 Vintage\", 'Gender': 'Men', 'Price': 100.0, 'URL': 'https://www.nike.com/t/blazer-mid-77-vintage-mens-shoes-nw30B2/BQ6806-100'}, {'Item': 'Nike Air Max 90', 'Gender': 'Men', 'Price': 120.0, 'URL': 'https://www.nike.com/t/air-max-90-mens-shoes-6n3vKB/CN8490-100'}, {'Item': 'Nike Air Max 97', 'Gender': 'Men', 'Price': 170.0, 'URL': 'https://www.nike.com/t/air-max-97-mens-shoe-SD3ZmW/921826-001'}, {'Item': 'Nike Air Vapormax 2021 FK', 'Gender': 'Men', 'Price': 200.0, 'URL': 'https://www.nike.com/t/air-vapormax-2021-fk-mens-shoes-NpTfFz/DC9394-400'}, {'Item': 'Nike ZoomX Invincible Run Flyknit', 'Gender': 'Men', 'Price': 180.0, 'URL': 'https://www.nike.com/t/zoomx-invincible-run-flyknit-mens-road-running-shoes-sP2zk7/CT2228-103'}, {'Item': 'Nike React Infinity Run Flyknit 2', 'Gender': 'Men', 'Price': 160.0, 'URL': 'https://www.nike.com/t/react-infinity-run-flyknit-2-mens-road-running-shoes-DttDF2/CT2357-101'}, {'Item': 'Zoom Freak 3', 'Gender': 'Men', 'Price': 120.0, 'URL': 'https://www.nike.com/t/zoom-freak-3-basketball-shoes-QXBvM0/DA0694-101'}, {'Item': 'Kyrie 7', 'Gender': 'Men', 'Price': 130.0, 'URL': 'https://www.nike.com/t/kyrie-7-basketball-shoes-nNMZ3b/DC9122-001'}  ... displaying 10 of 2149 total bound parameter sets ...  {'Item': 'Nike Air Max 90 LTR', 'Gender': 'Girls', 'Price': 70.97, 'URL': 'https://www.nike.com/t/air-max-90-ltr-baby-toddler-shoes-fsG78M/DM7596-001'}, {'Item': 'Air Jordan 4 Retro', 'Gender': 'Girls', 'Price': 150.0, 'URL': 'https://www.nike.com/t/air-jordan-4-retro-big-kids-shoe-fmLBVS/DH0572-264'})]\n(Background on this error at: http://sqlalche.me/e/14/f405)"
     ]
    }
   ],
   "source": [
    "# Load updated_df to database\n",
    "updated_df.to_sql(name='shopcom', con=engine, if_exists='append', index=False)"
   ]
  },
  {
   "cell_type": "code",
   "execution_count": 57,
   "id": "6b3fd1f2",
   "metadata": {},
   "outputs": [
    {
     "ename": "ProgrammingError",
     "evalue": "(psycopg2.errors.UndefinedColumn) column \"Item\" of relation \"shopcom\" does not exist\nLINE 1: INSERT INTO shopcom (\"Item\", \"Gender\", \"Price\", \"URL\") VALUE...\n                             ^\n\n[SQL: INSERT INTO shopcom (\"Item\", \"Gender\", \"Price\", \"URL\") VALUES (%(Item)s, %(Gender)s, %(Price)s, %(URL)s)]\n[parameters: ({'Item': \"Cougar Women's Vienna-S In Black\", 'Gender': 'Women', 'Price': 185.8, 'URL': 'https://www.shop.com/cougar-womens-vienna-s-in-black-1886108809-p.xhtml?publisherID=TEST'}, {'Item': \"Sam Edelman Women's Pippy Gold M\", 'Gender': 'Women', 'Price': 119.095, 'URL': 'https://www.shop.com/sam-edelman-womens-pippy-gold-m-1890470252-p.xhtml?publisherID=TEST'}, {'Item': \"Tretorn Women's Rawlins 10 in Black\", 'Gender': 'Women', 'Price': 128.39, 'URL': 'https://www.shop.com/tretorn-womens-rawlins-10-in-black-1850236383-p.xhtml?publisherID=TEST'}, {'Item': 'Steve Madden Womens Tracey Faux Leather Lace-up High Top Sneakers', 'Gender': 'Women', 'Price': 54.48, 'URL': 'https://www.shop.com/steve-madden-womens-tracey-faux-leather-lace-up-high-top-sneakers-1899461476-p.xhtml?publisherID=TEST'}, {'Item': \"Andrea Conti Women's Dani in White\", 'Gender': 'Women', 'Price': 78.82, 'URL': 'https://www.shop.com/andrea-conti-womens-dani-in-white-1911626314-p.xhtml?publisherID=TEST'}, {'Item': 'Adidas Womens Triple Cheer Gym Fitness Athletic and Training Shoes', 'Gender': 'Women', 'Price': 45.5, 'URL': 'https://www.shop.com/adidas-womens-triple-cheer-gym-fitness-athletic-and-training-shoes-1914730691-p.xhtml?publisherID=TEST'}, {'Item': 'Geox Respira Womens D Leelu Leather Embellished Fashion Sneakers', 'Gender': 'Women', 'Price': 49.99, 'URL': 'https://www.shop.com/geox-respira-womens-d-leelu-leather-embellished-fashion-sneakers-1912524816-p.xhtml?publisherID=TEST'}, {'Item': 'Adidas Womens Trainers Sneakers Athletic Shoes', 'Gender': 'Women', 'Price': 54.99, 'URL': 'https://www.shop.com/adidas-womens-trainers-sneakers-athletic-shoes-1899881548-p.xhtml?publisherID=TEST'}  ... displaying 10 of 8201 total bound parameter sets ...  {'Item': \"New Balance KL574AIP Grey/Purple/Teal  KL574AIP Kid's\", 'Gender': 'Boys', 'Price': 35.0, 'URL': 'https://www.shop.com/new-balance-kl574aip-greypurpleteal-kl574aip-kids-1917234908-p.xhtml?publisherID=TEST'}, {'Item': \"New Balance KL574C8G Black/White  KL574C8G Kid's\", 'Gender': 'Boys', 'Price': 68.0, 'URL': 'https://www.shop.com/new-balance-kl574c8g-blackwhite-kl574c8g-kids-1917234927-p.xhtml?publisherID=TEST'})]\n(Background on this error at: http://sqlalche.me/e/14/f405)",
     "output_type": "error",
     "traceback": [
      "\u001b[1;31m---------------------------------------------------------------------------\u001b[0m",
      "\u001b[1;31mUndefinedColumn\u001b[0m                           Traceback (most recent call last)",
      "\u001b[1;32m~\\anaconda3\\lib\\site-packages\\sqlalchemy\\engine\\base.py\u001b[0m in \u001b[0;36m_execute_context\u001b[1;34m(self, dialect, constructor, statement, parameters, execution_options, *args, **kw)\u001b[0m\n\u001b[0;32m   1684\u001b[0m                 \u001b[1;32mif\u001b[0m \u001b[1;32mnot\u001b[0m \u001b[0mevt_handled\u001b[0m\u001b[1;33m:\u001b[0m\u001b[1;33m\u001b[0m\u001b[1;33m\u001b[0m\u001b[0m\n\u001b[1;32m-> 1685\u001b[1;33m                     self.dialect.do_executemany(\n\u001b[0m\u001b[0;32m   1686\u001b[0m                         \u001b[0mcursor\u001b[0m\u001b[1;33m,\u001b[0m \u001b[0mstatement\u001b[0m\u001b[1;33m,\u001b[0m \u001b[0mparameters\u001b[0m\u001b[1;33m,\u001b[0m \u001b[0mcontext\u001b[0m\u001b[1;33m\u001b[0m\u001b[1;33m\u001b[0m\u001b[0m\n",
      "\u001b[1;32m~\\anaconda3\\lib\\site-packages\\sqlalchemy\\dialects\\postgresql\\psycopg2.py\u001b[0m in \u001b[0;36mdo_executemany\u001b[1;34m(self, cursor, statement, parameters, context)\u001b[0m\n\u001b[0;32m    902\u001b[0m             \u001b[0mxtras\u001b[0m \u001b[1;33m=\u001b[0m \u001b[0mself\u001b[0m\u001b[1;33m.\u001b[0m\u001b[0m_psycopg2_extras\u001b[0m\u001b[1;33m(\u001b[0m\u001b[1;33m)\u001b[0m\u001b[1;33m\u001b[0m\u001b[1;33m\u001b[0m\u001b[0m\n\u001b[1;32m--> 903\u001b[1;33m             context._psycopg2_fetched_rows = xtras.execute_values(\n\u001b[0m\u001b[0;32m    904\u001b[0m                 \u001b[0mcursor\u001b[0m\u001b[1;33m,\u001b[0m\u001b[1;33m\u001b[0m\u001b[1;33m\u001b[0m\u001b[0m\n",
      "\u001b[1;32m~\\anaconda3\\lib\\site-packages\\psycopg2\\extras.py\u001b[0m in \u001b[0;36mexecute_values\u001b[1;34m(cur, sql, argslist, template, page_size, fetch)\u001b[0m\n\u001b[0;32m   1269\u001b[0m         \u001b[0mparts\u001b[0m\u001b[1;33m[\u001b[0m\u001b[1;33m-\u001b[0m\u001b[1;36m1\u001b[0m\u001b[1;33m:\u001b[0m\u001b[1;33m]\u001b[0m \u001b[1;33m=\u001b[0m \u001b[0mpost\u001b[0m\u001b[1;33m\u001b[0m\u001b[1;33m\u001b[0m\u001b[0m\n\u001b[1;32m-> 1270\u001b[1;33m         \u001b[0mcur\u001b[0m\u001b[1;33m.\u001b[0m\u001b[0mexecute\u001b[0m\u001b[1;33m(\u001b[0m\u001b[1;34mb''\u001b[0m\u001b[1;33m.\u001b[0m\u001b[0mjoin\u001b[0m\u001b[1;33m(\u001b[0m\u001b[0mparts\u001b[0m\u001b[1;33m)\u001b[0m\u001b[1;33m)\u001b[0m\u001b[1;33m\u001b[0m\u001b[1;33m\u001b[0m\u001b[0m\n\u001b[0m\u001b[0;32m   1271\u001b[0m         \u001b[1;32mif\u001b[0m \u001b[0mfetch\u001b[0m\u001b[1;33m:\u001b[0m\u001b[1;33m\u001b[0m\u001b[1;33m\u001b[0m\u001b[0m\n",
      "\u001b[1;31mUndefinedColumn\u001b[0m: column \"Item\" of relation \"shopcom\" does not exist\nLINE 1: INSERT INTO shopcom (\"Item\", \"Gender\", \"Price\", \"URL\") VALUE...\n                             ^\n",
      "\nThe above exception was the direct cause of the following exception:\n",
      "\u001b[1;31mProgrammingError\u001b[0m                          Traceback (most recent call last)",
      "\u001b[1;32m<ipython-input-57-7e2c8f47fcba>\u001b[0m in \u001b[0;36m<module>\u001b[1;34m\u001b[0m\n\u001b[0;32m      1\u001b[0m \u001b[1;31m# Load shopcom_transformed_df to database\u001b[0m\u001b[1;33m\u001b[0m\u001b[1;33m\u001b[0m\u001b[1;33m\u001b[0m\u001b[0m\n\u001b[1;32m----> 2\u001b[1;33m \u001b[0mshopcom_transformed_df\u001b[0m\u001b[1;33m.\u001b[0m\u001b[0mto_sql\u001b[0m\u001b[1;33m(\u001b[0m\u001b[0mname\u001b[0m\u001b[1;33m=\u001b[0m\u001b[1;34m\"shopcom\"\u001b[0m\u001b[1;33m,\u001b[0m \u001b[0mcon\u001b[0m\u001b[1;33m=\u001b[0m\u001b[0mengine\u001b[0m\u001b[1;33m,\u001b[0m \u001b[0mif_exists\u001b[0m\u001b[1;33m=\u001b[0m\u001b[1;34m\"append\"\u001b[0m\u001b[1;33m,\u001b[0m \u001b[0mindex\u001b[0m\u001b[1;33m=\u001b[0m\u001b[1;32mFalse\u001b[0m\u001b[1;33m)\u001b[0m\u001b[1;33m\u001b[0m\u001b[1;33m\u001b[0m\u001b[0m\n\u001b[0m",
      "\u001b[1;32m~\\anaconda3\\lib\\site-packages\\pandas\\core\\generic.py\u001b[0m in \u001b[0;36mto_sql\u001b[1;34m(self, name, con, schema, if_exists, index, index_label, chunksize, dtype, method)\u001b[0m\n\u001b[0;32m   2777\u001b[0m         \u001b[1;32mfrom\u001b[0m \u001b[0mpandas\u001b[0m\u001b[1;33m.\u001b[0m\u001b[0mio\u001b[0m \u001b[1;32mimport\u001b[0m \u001b[0msql\u001b[0m\u001b[1;33m\u001b[0m\u001b[1;33m\u001b[0m\u001b[0m\n\u001b[0;32m   2778\u001b[0m \u001b[1;33m\u001b[0m\u001b[0m\n\u001b[1;32m-> 2779\u001b[1;33m         sql.to_sql(\n\u001b[0m\u001b[0;32m   2780\u001b[0m             \u001b[0mself\u001b[0m\u001b[1;33m,\u001b[0m\u001b[1;33m\u001b[0m\u001b[1;33m\u001b[0m\u001b[0m\n\u001b[0;32m   2781\u001b[0m             \u001b[0mname\u001b[0m\u001b[1;33m,\u001b[0m\u001b[1;33m\u001b[0m\u001b[1;33m\u001b[0m\u001b[0m\n",
      "\u001b[1;32m~\\anaconda3\\lib\\site-packages\\pandas\\io\\sql.py\u001b[0m in \u001b[0;36mto_sql\u001b[1;34m(frame, name, con, schema, if_exists, index, index_label, chunksize, dtype, method)\u001b[0m\n\u001b[0;32m    599\u001b[0m         )\n\u001b[0;32m    600\u001b[0m \u001b[1;33m\u001b[0m\u001b[0m\n\u001b[1;32m--> 601\u001b[1;33m     pandas_sql.to_sql(\n\u001b[0m\u001b[0;32m    602\u001b[0m         \u001b[0mframe\u001b[0m\u001b[1;33m,\u001b[0m\u001b[1;33m\u001b[0m\u001b[1;33m\u001b[0m\u001b[0m\n\u001b[0;32m    603\u001b[0m         \u001b[0mname\u001b[0m\u001b[1;33m,\u001b[0m\u001b[1;33m\u001b[0m\u001b[1;33m\u001b[0m\u001b[0m\n",
      "\u001b[1;32m~\\anaconda3\\lib\\site-packages\\pandas\\io\\sql.py\u001b[0m in \u001b[0;36mto_sql\u001b[1;34m(self, frame, name, if_exists, index, index_label, schema, chunksize, dtype, method)\u001b[0m\n\u001b[0;32m   1417\u001b[0m                 \u001b[1;32mraise\u001b[0m \u001b[0mValueError\u001b[0m\u001b[1;33m(\u001b[0m\u001b[1;34m\"inf cannot be used with MySQL\"\u001b[0m\u001b[1;33m)\u001b[0m \u001b[1;32mfrom\u001b[0m \u001b[0merr\u001b[0m\u001b[1;33m\u001b[0m\u001b[1;33m\u001b[0m\u001b[0m\n\u001b[0;32m   1418\u001b[0m             \u001b[1;32melse\u001b[0m\u001b[1;33m:\u001b[0m\u001b[1;33m\u001b[0m\u001b[1;33m\u001b[0m\u001b[0m\n\u001b[1;32m-> 1419\u001b[1;33m                 \u001b[1;32mraise\u001b[0m \u001b[0merr\u001b[0m\u001b[1;33m\u001b[0m\u001b[1;33m\u001b[0m\u001b[0m\n\u001b[0m\u001b[0;32m   1420\u001b[0m \u001b[1;33m\u001b[0m\u001b[0m\n\u001b[0;32m   1421\u001b[0m         \u001b[1;32mif\u001b[0m \u001b[1;32mnot\u001b[0m \u001b[0mname\u001b[0m\u001b[1;33m.\u001b[0m\u001b[0misdigit\u001b[0m\u001b[1;33m(\u001b[0m\u001b[1;33m)\u001b[0m \u001b[1;32mand\u001b[0m \u001b[1;32mnot\u001b[0m \u001b[0mname\u001b[0m\u001b[1;33m.\u001b[0m\u001b[0mislower\u001b[0m\u001b[1;33m(\u001b[0m\u001b[1;33m)\u001b[0m\u001b[1;33m:\u001b[0m\u001b[1;33m\u001b[0m\u001b[1;33m\u001b[0m\u001b[0m\n",
      "\u001b[1;32m~\\anaconda3\\lib\\site-packages\\pandas\\io\\sql.py\u001b[0m in \u001b[0;36mto_sql\u001b[1;34m(self, frame, name, if_exists, index, index_label, schema, chunksize, dtype, method)\u001b[0m\n\u001b[0;32m   1409\u001b[0m \u001b[1;33m\u001b[0m\u001b[0m\n\u001b[0;32m   1410\u001b[0m         \u001b[1;32mtry\u001b[0m\u001b[1;33m:\u001b[0m\u001b[1;33m\u001b[0m\u001b[1;33m\u001b[0m\u001b[0m\n\u001b[1;32m-> 1411\u001b[1;33m             \u001b[0mtable\u001b[0m\u001b[1;33m.\u001b[0m\u001b[0minsert\u001b[0m\u001b[1;33m(\u001b[0m\u001b[0mchunksize\u001b[0m\u001b[1;33m,\u001b[0m \u001b[0mmethod\u001b[0m\u001b[1;33m=\u001b[0m\u001b[0mmethod\u001b[0m\u001b[1;33m)\u001b[0m\u001b[1;33m\u001b[0m\u001b[1;33m\u001b[0m\u001b[0m\n\u001b[0m\u001b[0;32m   1412\u001b[0m         \u001b[1;32mexcept\u001b[0m \u001b[0mexc\u001b[0m\u001b[1;33m.\u001b[0m\u001b[0mSQLAlchemyError\u001b[0m \u001b[1;32mas\u001b[0m \u001b[0merr\u001b[0m\u001b[1;33m:\u001b[0m\u001b[1;33m\u001b[0m\u001b[1;33m\u001b[0m\u001b[0m\n\u001b[0;32m   1413\u001b[0m             \u001b[1;31m# GH34431\u001b[0m\u001b[1;33m\u001b[0m\u001b[1;33m\u001b[0m\u001b[1;33m\u001b[0m\u001b[0m\n",
      "\u001b[1;32m~\\anaconda3\\lib\\site-packages\\pandas\\io\\sql.py\u001b[0m in \u001b[0;36minsert\u001b[1;34m(self, chunksize, method)\u001b[0m\n\u001b[0;32m    843\u001b[0m \u001b[1;33m\u001b[0m\u001b[0m\n\u001b[0;32m    844\u001b[0m                 \u001b[0mchunk_iter\u001b[0m \u001b[1;33m=\u001b[0m \u001b[0mzip\u001b[0m\u001b[1;33m(\u001b[0m\u001b[1;33m*\u001b[0m\u001b[1;33m[\u001b[0m\u001b[0marr\u001b[0m\u001b[1;33m[\u001b[0m\u001b[0mstart_i\u001b[0m\u001b[1;33m:\u001b[0m\u001b[0mend_i\u001b[0m\u001b[1;33m]\u001b[0m \u001b[1;32mfor\u001b[0m \u001b[0marr\u001b[0m \u001b[1;32min\u001b[0m \u001b[0mdata_list\u001b[0m\u001b[1;33m]\u001b[0m\u001b[1;33m)\u001b[0m\u001b[1;33m\u001b[0m\u001b[1;33m\u001b[0m\u001b[0m\n\u001b[1;32m--> 845\u001b[1;33m                 \u001b[0mexec_insert\u001b[0m\u001b[1;33m(\u001b[0m\u001b[0mconn\u001b[0m\u001b[1;33m,\u001b[0m \u001b[0mkeys\u001b[0m\u001b[1;33m,\u001b[0m \u001b[0mchunk_iter\u001b[0m\u001b[1;33m)\u001b[0m\u001b[1;33m\u001b[0m\u001b[1;33m\u001b[0m\u001b[0m\n\u001b[0m\u001b[0;32m    846\u001b[0m \u001b[1;33m\u001b[0m\u001b[0m\n\u001b[0;32m    847\u001b[0m     def _query_iterator(\n",
      "\u001b[1;32m~\\anaconda3\\lib\\site-packages\\pandas\\io\\sql.py\u001b[0m in \u001b[0;36m_execute_insert\u001b[1;34m(self, conn, keys, data_iter)\u001b[0m\n\u001b[0;32m    760\u001b[0m         \"\"\"\n\u001b[0;32m    761\u001b[0m         \u001b[0mdata\u001b[0m \u001b[1;33m=\u001b[0m \u001b[1;33m[\u001b[0m\u001b[0mdict\u001b[0m\u001b[1;33m(\u001b[0m\u001b[0mzip\u001b[0m\u001b[1;33m(\u001b[0m\u001b[0mkeys\u001b[0m\u001b[1;33m,\u001b[0m \u001b[0mrow\u001b[0m\u001b[1;33m)\u001b[0m\u001b[1;33m)\u001b[0m \u001b[1;32mfor\u001b[0m \u001b[0mrow\u001b[0m \u001b[1;32min\u001b[0m \u001b[0mdata_iter\u001b[0m\u001b[1;33m]\u001b[0m\u001b[1;33m\u001b[0m\u001b[1;33m\u001b[0m\u001b[0m\n\u001b[1;32m--> 762\u001b[1;33m         \u001b[0mconn\u001b[0m\u001b[1;33m.\u001b[0m\u001b[0mexecute\u001b[0m\u001b[1;33m(\u001b[0m\u001b[0mself\u001b[0m\u001b[1;33m.\u001b[0m\u001b[0mtable\u001b[0m\u001b[1;33m.\u001b[0m\u001b[0minsert\u001b[0m\u001b[1;33m(\u001b[0m\u001b[1;33m)\u001b[0m\u001b[1;33m,\u001b[0m \u001b[0mdata\u001b[0m\u001b[1;33m)\u001b[0m\u001b[1;33m\u001b[0m\u001b[1;33m\u001b[0m\u001b[0m\n\u001b[0m\u001b[0;32m    763\u001b[0m \u001b[1;33m\u001b[0m\u001b[0m\n\u001b[0;32m    764\u001b[0m     \u001b[1;32mdef\u001b[0m \u001b[0m_execute_insert_multi\u001b[0m\u001b[1;33m(\u001b[0m\u001b[0mself\u001b[0m\u001b[1;33m,\u001b[0m \u001b[0mconn\u001b[0m\u001b[1;33m,\u001b[0m \u001b[0mkeys\u001b[0m\u001b[1;33m,\u001b[0m \u001b[0mdata_iter\u001b[0m\u001b[1;33m)\u001b[0m\u001b[1;33m:\u001b[0m\u001b[1;33m\u001b[0m\u001b[1;33m\u001b[0m\u001b[0m\n",
      "\u001b[1;32m~\\anaconda3\\lib\\site-packages\\sqlalchemy\\engine\\base.py\u001b[0m in \u001b[0;36mexecute\u001b[1;34m(self, statement, *multiparams, **params)\u001b[0m\n\u001b[0;32m   1198\u001b[0m             )\n\u001b[0;32m   1199\u001b[0m         \u001b[1;32melse\u001b[0m\u001b[1;33m:\u001b[0m\u001b[1;33m\u001b[0m\u001b[1;33m\u001b[0m\u001b[0m\n\u001b[1;32m-> 1200\u001b[1;33m             \u001b[1;32mreturn\u001b[0m \u001b[0mmeth\u001b[0m\u001b[1;33m(\u001b[0m\u001b[0mself\u001b[0m\u001b[1;33m,\u001b[0m \u001b[0mmultiparams\u001b[0m\u001b[1;33m,\u001b[0m \u001b[0mparams\u001b[0m\u001b[1;33m,\u001b[0m \u001b[0m_EMPTY_EXECUTION_OPTS\u001b[0m\u001b[1;33m)\u001b[0m\u001b[1;33m\u001b[0m\u001b[1;33m\u001b[0m\u001b[0m\n\u001b[0m\u001b[0;32m   1201\u001b[0m \u001b[1;33m\u001b[0m\u001b[0m\n\u001b[0;32m   1202\u001b[0m     \u001b[1;32mdef\u001b[0m \u001b[0m_execute_function\u001b[0m\u001b[1;33m(\u001b[0m\u001b[0mself\u001b[0m\u001b[1;33m,\u001b[0m \u001b[0mfunc\u001b[0m\u001b[1;33m,\u001b[0m \u001b[0mmultiparams\u001b[0m\u001b[1;33m,\u001b[0m \u001b[0mparams\u001b[0m\u001b[1;33m,\u001b[0m \u001b[0mexecution_options\u001b[0m\u001b[1;33m)\u001b[0m\u001b[1;33m:\u001b[0m\u001b[1;33m\u001b[0m\u001b[1;33m\u001b[0m\u001b[0m\n",
      "\u001b[1;32m~\\anaconda3\\lib\\site-packages\\sqlalchemy\\sql\\elements.py\u001b[0m in \u001b[0;36m_execute_on_connection\u001b[1;34m(self, connection, multiparams, params, execution_options, _force)\u001b[0m\n\u001b[0;32m    311\u001b[0m     ):\n\u001b[0;32m    312\u001b[0m         \u001b[1;32mif\u001b[0m \u001b[0m_force\u001b[0m \u001b[1;32mor\u001b[0m \u001b[0mself\u001b[0m\u001b[1;33m.\u001b[0m\u001b[0msupports_execution\u001b[0m\u001b[1;33m:\u001b[0m\u001b[1;33m\u001b[0m\u001b[1;33m\u001b[0m\u001b[0m\n\u001b[1;32m--> 313\u001b[1;33m             return connection._execute_clauseelement(\n\u001b[0m\u001b[0;32m    314\u001b[0m                 \u001b[0mself\u001b[0m\u001b[1;33m,\u001b[0m \u001b[0mmultiparams\u001b[0m\u001b[1;33m,\u001b[0m \u001b[0mparams\u001b[0m\u001b[1;33m,\u001b[0m \u001b[0mexecution_options\u001b[0m\u001b[1;33m\u001b[0m\u001b[1;33m\u001b[0m\u001b[0m\n\u001b[0;32m    315\u001b[0m             )\n",
      "\u001b[1;32m~\\anaconda3\\lib\\site-packages\\sqlalchemy\\engine\\base.py\u001b[0m in \u001b[0;36m_execute_clauseelement\u001b[1;34m(self, elem, multiparams, params, execution_options)\u001b[0m\n\u001b[0;32m   1387\u001b[0m             \u001b[0mlinting\u001b[0m\u001b[1;33m=\u001b[0m\u001b[0mself\u001b[0m\u001b[1;33m.\u001b[0m\u001b[0mdialect\u001b[0m\u001b[1;33m.\u001b[0m\u001b[0mcompiler_linting\u001b[0m \u001b[1;33m|\u001b[0m \u001b[0mcompiler\u001b[0m\u001b[1;33m.\u001b[0m\u001b[0mWARN_LINTING\u001b[0m\u001b[1;33m,\u001b[0m\u001b[1;33m\u001b[0m\u001b[1;33m\u001b[0m\u001b[0m\n\u001b[0;32m   1388\u001b[0m         )\n\u001b[1;32m-> 1389\u001b[1;33m         ret = self._execute_context(\n\u001b[0m\u001b[0;32m   1390\u001b[0m             \u001b[0mdialect\u001b[0m\u001b[1;33m,\u001b[0m\u001b[1;33m\u001b[0m\u001b[1;33m\u001b[0m\u001b[0m\n\u001b[0;32m   1391\u001b[0m             \u001b[0mdialect\u001b[0m\u001b[1;33m.\u001b[0m\u001b[0mexecution_ctx_cls\u001b[0m\u001b[1;33m.\u001b[0m\u001b[0m_init_compiled\u001b[0m\u001b[1;33m,\u001b[0m\u001b[1;33m\u001b[0m\u001b[1;33m\u001b[0m\u001b[0m\n",
      "\u001b[1;32m~\\anaconda3\\lib\\site-packages\\sqlalchemy\\engine\\base.py\u001b[0m in \u001b[0;36m_execute_context\u001b[1;34m(self, dialect, constructor, statement, parameters, execution_options, *args, **kw)\u001b[0m\n\u001b[0;32m   1746\u001b[0m \u001b[1;33m\u001b[0m\u001b[0m\n\u001b[0;32m   1747\u001b[0m         \u001b[1;32mexcept\u001b[0m \u001b[0mBaseException\u001b[0m \u001b[1;32mas\u001b[0m \u001b[0me\u001b[0m\u001b[1;33m:\u001b[0m\u001b[1;33m\u001b[0m\u001b[1;33m\u001b[0m\u001b[0m\n\u001b[1;32m-> 1748\u001b[1;33m             self._handle_dbapi_exception(\n\u001b[0m\u001b[0;32m   1749\u001b[0m                 \u001b[0me\u001b[0m\u001b[1;33m,\u001b[0m \u001b[0mstatement\u001b[0m\u001b[1;33m,\u001b[0m \u001b[0mparameters\u001b[0m\u001b[1;33m,\u001b[0m \u001b[0mcursor\u001b[0m\u001b[1;33m,\u001b[0m \u001b[0mcontext\u001b[0m\u001b[1;33m\u001b[0m\u001b[1;33m\u001b[0m\u001b[0m\n\u001b[0;32m   1750\u001b[0m             )\n",
      "\u001b[1;32m~\\anaconda3\\lib\\site-packages\\sqlalchemy\\engine\\base.py\u001b[0m in \u001b[0;36m_handle_dbapi_exception\u001b[1;34m(self, e, statement, parameters, cursor, context)\u001b[0m\n\u001b[0;32m   1927\u001b[0m                 \u001b[0mutil\u001b[0m\u001b[1;33m.\u001b[0m\u001b[0mraise_\u001b[0m\u001b[1;33m(\u001b[0m\u001b[0mnewraise\u001b[0m\u001b[1;33m,\u001b[0m \u001b[0mwith_traceback\u001b[0m\u001b[1;33m=\u001b[0m\u001b[0mexc_info\u001b[0m\u001b[1;33m[\u001b[0m\u001b[1;36m2\u001b[0m\u001b[1;33m]\u001b[0m\u001b[1;33m,\u001b[0m \u001b[0mfrom_\u001b[0m\u001b[1;33m=\u001b[0m\u001b[0me\u001b[0m\u001b[1;33m)\u001b[0m\u001b[1;33m\u001b[0m\u001b[1;33m\u001b[0m\u001b[0m\n\u001b[0;32m   1928\u001b[0m             \u001b[1;32melif\u001b[0m \u001b[0mshould_wrap\u001b[0m\u001b[1;33m:\u001b[0m\u001b[1;33m\u001b[0m\u001b[1;33m\u001b[0m\u001b[0m\n\u001b[1;32m-> 1929\u001b[1;33m                 util.raise_(\n\u001b[0m\u001b[0;32m   1930\u001b[0m                     \u001b[0msqlalchemy_exception\u001b[0m\u001b[1;33m,\u001b[0m \u001b[0mwith_traceback\u001b[0m\u001b[1;33m=\u001b[0m\u001b[0mexc_info\u001b[0m\u001b[1;33m[\u001b[0m\u001b[1;36m2\u001b[0m\u001b[1;33m]\u001b[0m\u001b[1;33m,\u001b[0m \u001b[0mfrom_\u001b[0m\u001b[1;33m=\u001b[0m\u001b[0me\u001b[0m\u001b[1;33m\u001b[0m\u001b[1;33m\u001b[0m\u001b[0m\n\u001b[0;32m   1931\u001b[0m                 )\n",
      "\u001b[1;32m~\\anaconda3\\lib\\site-packages\\sqlalchemy\\util\\compat.py\u001b[0m in \u001b[0;36mraise_\u001b[1;34m(***failed resolving arguments***)\u001b[0m\n\u001b[0;32m    209\u001b[0m \u001b[1;33m\u001b[0m\u001b[0m\n\u001b[0;32m    210\u001b[0m         \u001b[1;32mtry\u001b[0m\u001b[1;33m:\u001b[0m\u001b[1;33m\u001b[0m\u001b[1;33m\u001b[0m\u001b[0m\n\u001b[1;32m--> 211\u001b[1;33m             \u001b[1;32mraise\u001b[0m \u001b[0mexception\u001b[0m\u001b[1;33m\u001b[0m\u001b[1;33m\u001b[0m\u001b[0m\n\u001b[0m\u001b[0;32m    212\u001b[0m         \u001b[1;32mfinally\u001b[0m\u001b[1;33m:\u001b[0m\u001b[1;33m\u001b[0m\u001b[1;33m\u001b[0m\u001b[0m\n\u001b[0;32m    213\u001b[0m             \u001b[1;31m# credit to\u001b[0m\u001b[1;33m\u001b[0m\u001b[1;33m\u001b[0m\u001b[1;33m\u001b[0m\u001b[0m\n",
      "\u001b[1;32m~\\anaconda3\\lib\\site-packages\\sqlalchemy\\engine\\base.py\u001b[0m in \u001b[0;36m_execute_context\u001b[1;34m(self, dialect, constructor, statement, parameters, execution_options, *args, **kw)\u001b[0m\n\u001b[0;32m   1683\u001b[0m                             \u001b[1;32mbreak\u001b[0m\u001b[1;33m\u001b[0m\u001b[1;33m\u001b[0m\u001b[0m\n\u001b[0;32m   1684\u001b[0m                 \u001b[1;32mif\u001b[0m \u001b[1;32mnot\u001b[0m \u001b[0mevt_handled\u001b[0m\u001b[1;33m:\u001b[0m\u001b[1;33m\u001b[0m\u001b[1;33m\u001b[0m\u001b[0m\n\u001b[1;32m-> 1685\u001b[1;33m                     self.dialect.do_executemany(\n\u001b[0m\u001b[0;32m   1686\u001b[0m                         \u001b[0mcursor\u001b[0m\u001b[1;33m,\u001b[0m \u001b[0mstatement\u001b[0m\u001b[1;33m,\u001b[0m \u001b[0mparameters\u001b[0m\u001b[1;33m,\u001b[0m \u001b[0mcontext\u001b[0m\u001b[1;33m\u001b[0m\u001b[1;33m\u001b[0m\u001b[0m\n\u001b[0;32m   1687\u001b[0m                     )\n",
      "\u001b[1;32m~\\anaconda3\\lib\\site-packages\\sqlalchemy\\dialects\\postgresql\\psycopg2.py\u001b[0m in \u001b[0;36mdo_executemany\u001b[1;34m(self, cursor, statement, parameters, context)\u001b[0m\n\u001b[0;32m    901\u001b[0m                 \u001b[0mkwargs\u001b[0m \u001b[1;33m=\u001b[0m \u001b[1;33m{\u001b[0m\u001b[1;33m}\u001b[0m\u001b[1;33m\u001b[0m\u001b[1;33m\u001b[0m\u001b[0m\n\u001b[0;32m    902\u001b[0m             \u001b[0mxtras\u001b[0m \u001b[1;33m=\u001b[0m \u001b[0mself\u001b[0m\u001b[1;33m.\u001b[0m\u001b[0m_psycopg2_extras\u001b[0m\u001b[1;33m(\u001b[0m\u001b[1;33m)\u001b[0m\u001b[1;33m\u001b[0m\u001b[1;33m\u001b[0m\u001b[0m\n\u001b[1;32m--> 903\u001b[1;33m             context._psycopg2_fetched_rows = xtras.execute_values(\n\u001b[0m\u001b[0;32m    904\u001b[0m                 \u001b[0mcursor\u001b[0m\u001b[1;33m,\u001b[0m\u001b[1;33m\u001b[0m\u001b[1;33m\u001b[0m\u001b[0m\n\u001b[0;32m    905\u001b[0m                 \u001b[0mstatement\u001b[0m\u001b[1;33m,\u001b[0m\u001b[1;33m\u001b[0m\u001b[1;33m\u001b[0m\u001b[0m\n",
      "\u001b[1;32m~\\anaconda3\\lib\\site-packages\\psycopg2\\extras.py\u001b[0m in \u001b[0;36mexecute_values\u001b[1;34m(cur, sql, argslist, template, page_size, fetch)\u001b[0m\n\u001b[0;32m   1268\u001b[0m             \u001b[0mparts\u001b[0m\u001b[1;33m.\u001b[0m\u001b[0mappend\u001b[0m\u001b[1;33m(\u001b[0m\u001b[1;34mb','\u001b[0m\u001b[1;33m)\u001b[0m\u001b[1;33m\u001b[0m\u001b[1;33m\u001b[0m\u001b[0m\n\u001b[0;32m   1269\u001b[0m         \u001b[0mparts\u001b[0m\u001b[1;33m[\u001b[0m\u001b[1;33m-\u001b[0m\u001b[1;36m1\u001b[0m\u001b[1;33m:\u001b[0m\u001b[1;33m]\u001b[0m \u001b[1;33m=\u001b[0m \u001b[0mpost\u001b[0m\u001b[1;33m\u001b[0m\u001b[1;33m\u001b[0m\u001b[0m\n\u001b[1;32m-> 1270\u001b[1;33m         \u001b[0mcur\u001b[0m\u001b[1;33m.\u001b[0m\u001b[0mexecute\u001b[0m\u001b[1;33m(\u001b[0m\u001b[1;34mb''\u001b[0m\u001b[1;33m.\u001b[0m\u001b[0mjoin\u001b[0m\u001b[1;33m(\u001b[0m\u001b[0mparts\u001b[0m\u001b[1;33m)\u001b[0m\u001b[1;33m)\u001b[0m\u001b[1;33m\u001b[0m\u001b[1;33m\u001b[0m\u001b[0m\n\u001b[0m\u001b[0;32m   1271\u001b[0m         \u001b[1;32mif\u001b[0m \u001b[0mfetch\u001b[0m\u001b[1;33m:\u001b[0m\u001b[1;33m\u001b[0m\u001b[1;33m\u001b[0m\u001b[0m\n\u001b[0;32m   1272\u001b[0m             \u001b[0mresult\u001b[0m\u001b[1;33m.\u001b[0m\u001b[0mextend\u001b[0m\u001b[1;33m(\u001b[0m\u001b[0mcur\u001b[0m\u001b[1;33m.\u001b[0m\u001b[0mfetchall\u001b[0m\u001b[1;33m(\u001b[0m\u001b[1;33m)\u001b[0m\u001b[1;33m)\u001b[0m\u001b[1;33m\u001b[0m\u001b[1;33m\u001b[0m\u001b[0m\n",
      "\u001b[1;31mProgrammingError\u001b[0m: (psycopg2.errors.UndefinedColumn) column \"Item\" of relation \"shopcom\" does not exist\nLINE 1: INSERT INTO shopcom (\"Item\", \"Gender\", \"Price\", \"URL\") VALUE...\n                             ^\n\n[SQL: INSERT INTO shopcom (\"Item\", \"Gender\", \"Price\", \"URL\") VALUES (%(Item)s, %(Gender)s, %(Price)s, %(URL)s)]\n[parameters: ({'Item': \"Cougar Women's Vienna-S In Black\", 'Gender': 'Women', 'Price': 185.8, 'URL': 'https://www.shop.com/cougar-womens-vienna-s-in-black-1886108809-p.xhtml?publisherID=TEST'}, {'Item': \"Sam Edelman Women's Pippy Gold M\", 'Gender': 'Women', 'Price': 119.095, 'URL': 'https://www.shop.com/sam-edelman-womens-pippy-gold-m-1890470252-p.xhtml?publisherID=TEST'}, {'Item': \"Tretorn Women's Rawlins 10 in Black\", 'Gender': 'Women', 'Price': 128.39, 'URL': 'https://www.shop.com/tretorn-womens-rawlins-10-in-black-1850236383-p.xhtml?publisherID=TEST'}, {'Item': 'Steve Madden Womens Tracey Faux Leather Lace-up High Top Sneakers', 'Gender': 'Women', 'Price': 54.48, 'URL': 'https://www.shop.com/steve-madden-womens-tracey-faux-leather-lace-up-high-top-sneakers-1899461476-p.xhtml?publisherID=TEST'}, {'Item': \"Andrea Conti Women's Dani in White\", 'Gender': 'Women', 'Price': 78.82, 'URL': 'https://www.shop.com/andrea-conti-womens-dani-in-white-1911626314-p.xhtml?publisherID=TEST'}, {'Item': 'Adidas Womens Triple Cheer Gym Fitness Athletic and Training Shoes', 'Gender': 'Women', 'Price': 45.5, 'URL': 'https://www.shop.com/adidas-womens-triple-cheer-gym-fitness-athletic-and-training-shoes-1914730691-p.xhtml?publisherID=TEST'}, {'Item': 'Geox Respira Womens D Leelu Leather Embellished Fashion Sneakers', 'Gender': 'Women', 'Price': 49.99, 'URL': 'https://www.shop.com/geox-respira-womens-d-leelu-leather-embellished-fashion-sneakers-1912524816-p.xhtml?publisherID=TEST'}, {'Item': 'Adidas Womens Trainers Sneakers Athletic Shoes', 'Gender': 'Women', 'Price': 54.99, 'URL': 'https://www.shop.com/adidas-womens-trainers-sneakers-athletic-shoes-1899881548-p.xhtml?publisherID=TEST'}  ... displaying 10 of 8201 total bound parameter sets ...  {'Item': \"New Balance KL574AIP Grey/Purple/Teal  KL574AIP Kid's\", 'Gender': 'Boys', 'Price': 35.0, 'URL': 'https://www.shop.com/new-balance-kl574aip-greypurpleteal-kl574aip-kids-1917234908-p.xhtml?publisherID=TEST'}, {'Item': \"New Balance KL574C8G Black/White  KL574C8G Kid's\", 'Gender': 'Boys', 'Price': 68.0, 'URL': 'https://www.shop.com/new-balance-kl574c8g-blackwhite-kl574c8g-kids-1917234927-p.xhtml?publisherID=TEST'})]\n(Background on this error at: http://sqlalche.me/e/14/f405)"
     ]
    }
   ],
   "source": [
    "# Load shopcom_transformed_df to database\n",
    "shopcom_transformed_df.to_sql(name=\"shopcom\", con=engine, if_exists=\"append\", index=False)"
   ]
  },
  {
   "cell_type": "code",
   "execution_count": 58,
   "id": "6e5d0d34",
   "metadata": {},
   "outputs": [
    {
     "data": {
      "text/html": [
       "<div>\n",
       "<style scoped>\n",
       "    .dataframe tbody tr th:only-of-type {\n",
       "        vertical-align: middle;\n",
       "    }\n",
       "\n",
       "    .dataframe tbody tr th {\n",
       "        vertical-align: top;\n",
       "    }\n",
       "\n",
       "    .dataframe thead th {\n",
       "        text-align: right;\n",
       "    }\n",
       "</style>\n",
       "<table border=\"1\" class=\"dataframe\">\n",
       "  <thead>\n",
       "    <tr style=\"text-align: right;\">\n",
       "      <th></th>\n",
       "      <th>id</th>\n",
       "      <th>item</th>\n",
       "      <th>gender</th>\n",
       "      <th>price</th>\n",
       "      <th>url</th>\n",
       "    </tr>\n",
       "  </thead>\n",
       "  <tbody>\n",
       "  </tbody>\n",
       "</table>\n",
       "</div>"
      ],
      "text/plain": [
       "Empty DataFrame\n",
       "Columns: [id, item, gender, price, url]\n",
       "Index: []"
      ]
     },
     "execution_count": 58,
     "metadata": {},
     "output_type": "execute_result"
    }
   ],
   "source": [
    "pd.read_sql_query(\"select * from shopcom\", con=engine)"
   ]
  },
  {
   "cell_type": "code",
   "execution_count": null,
   "id": "e5f8ff91",
   "metadata": {},
   "outputs": [],
   "source": []
  }
 ],
 "metadata": {
  "kernelspec": {
   "display_name": "Python 3",
   "language": "python",
   "name": "python3"
  },
  "language_info": {
   "codemirror_mode": {
    "name": "ipython",
    "version": 3
   },
   "file_extension": ".py",
   "mimetype": "text/x-python",
   "name": "python",
   "nbconvert_exporter": "python",
   "pygments_lexer": "ipython3",
   "version": "3.8.8"
  }
 },
 "nbformat": 4,
 "nbformat_minor": 5
}
